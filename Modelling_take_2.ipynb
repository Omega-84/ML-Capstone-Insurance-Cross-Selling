{
 "cells": [
  {
   "cell_type": "code",
   "execution_count": 83,
   "id": "89cdd960-f47b-4ef3-a96a-23ae35b9dff1",
   "metadata": {},
   "outputs": [],
   "source": [
    "import pandas as pd\n",
    "import numpy as np\n",
    "import matplotlib.pyplot as plt\n",
    "import seaborn as sns\n",
    "from sklearn.model_selection import train_test_split\n",
    "from keras.utils.np_utils import to_categorical \n",
    "from sklearn.ensemble import RandomForestClassifier,VotingClassifier\n",
    "from sklearn.svm import SVC\n",
    "from sklearn.model_selection import RepeatedStratifiedKFold\n",
    "from sklearn.model_selection import GridSearchCV,RandomizedSearchCV\n",
    "from sklearn.metrics import accuracy_score, confusion_matrix,recall_score,precision_score,log_loss,f1_score,roc_auc_score,classification_report\n",
    "from warnings import filterwarnings\n",
    "from sklearn.decomposition import PCA\n",
    "import lightgbm as lgb\n",
    "import tensorflow as tf\n",
    "filterwarnings(\"ignore\")\n",
    "plt.style.use('ggplot')"
   ]
  },
  {
   "cell_type": "code",
   "execution_count": 10,
   "id": "831a18c5-0243-4f93-a9af-ec2d5537db75",
   "metadata": {},
   "outputs": [],
   "source": [
    "X_train = pd.read_csv(\"X_train_df\")\n",
    "X_test = pd.read_csv(\"X_test_df\")\n",
    "y_train = pd.read_csv(\"y_train_series\")\n",
    "y_test = pd.read_csv(\"y_test_series\")"
   ]
  },
  {
   "cell_type": "code",
   "execution_count": 11,
   "id": "b4502698-0466-4179-8c8c-bb9be899d140",
   "metadata": {},
   "outputs": [],
   "source": [
    "X_train = X_train.drop('Unnamed: 0',axis=1).values\n",
    "X_test = X_test.drop('Unnamed: 0',axis=1).values\n",
    "y_train = y_train.drop('Unnamed: 0',axis=1).values.reshape(-1,1)\n",
    "y_test = y_test.drop('Unnamed: 0',axis=1).values.reshape(-1,1)"
   ]
  },
  {
   "cell_type": "code",
   "execution_count": 67,
   "id": "b178183a-de11-41f6-98ef-5a62796fed46",
   "metadata": {},
   "outputs": [],
   "source": [
    "def get_metric(classifier):\n",
    "    training_pred = classifier.predict(X_train)\n",
    "    testing_pred = classifier.predict(X_test)\n",
    "    \n",
    "    print(\"The classification report for training is \\n\")\n",
    "    print(classification_report(y_train,training_pred),\"\\n\")\n",
    "    \n",
    "    print(\"The classification report for testing is \\n\")\n",
    "    print(classification_report(y_test,testing_pred),\"\\n\")\n",
    "    \n",
    "    print(\"The scores are summed up in the dataframe below\")\n",
    "    \n",
    "    metrics = [roc_auc_score,accuracy_score,recall_score,precision_score,log_loss,f1_score]\n",
    "    metric_name = ['Roc Auc','Accuracy','Recall','Precision','Log loss','F1 score']\n",
    "    \n",
    "    zipped_list = []\n",
    "    for i in metrics:\n",
    "        tr = round(i(y_train,training_pred),2)\n",
    "        ts = round(i(y_test,testing_pred),2)\n",
    "        zipped_list.append((tr,ts))\n",
    "    metric_df = pd.DataFrame(zipped_list,index=metric_name,columns=['Train','Test'])    \n",
    "    true_dict = pd.Series(y_test.flatten()).value_counts().to_dict()\n",
    "    pred_dict = pd.Series(testing_pred).value_counts().to_dict()\n",
    "\n",
    "    tmp_df = pd.DataFrame(zip(true_dict.values(),pred_dict.values()),columns = ['Actual','Predicted'],index=pred_dict.keys())\n",
    "    tmp_df = tmp_df.div(tmp_df.sum(axis=0), axis=1)\n",
    "    tmp_df.plot(kind='bar', rot=0, xlabel='Response',ylabel='Percentages', figsize=(14, 6))\n",
    "#    plt.ylim((0, 100))\n",
    "    \n",
    "    return metric_df   "
   ]
  },
  {
   "cell_type": "markdown",
   "id": "e49c5116-9534-45b8-97e3-1e1fad0e6832",
   "metadata": {},
   "source": [
    "## Base RandomForest"
   ]
  },
  {
   "cell_type": "code",
   "execution_count": 13,
   "id": "42b91949-bd47-45c7-b52d-3e79e92064c5",
   "metadata": {},
   "outputs": [
    {
     "data": {
      "text/plain": [
       "RandomForestClassifier(n_jobs=10)"
      ]
     },
     "execution_count": 13,
     "metadata": {},
     "output_type": "execute_result"
    }
   ],
   "source": [
    "rf_clf = RandomForestClassifier(n_jobs=10)\n",
    "rf_clf.fit(X_train,y_train)"
   ]
  },
  {
   "cell_type": "code",
   "execution_count": 14,
   "id": "7ab386a3-acdc-447a-8162-e20a544f7c13",
   "metadata": {},
   "outputs": [
    {
     "name": "stdout",
     "output_type": "stream",
     "text": [
      "The classification report for training is \n",
      "\n",
      "              precision    recall  f1-score   support\n",
      "\n",
      "           0       1.00      1.00      1.00    267427\n",
      "           1       1.00      1.00      1.00    267427\n",
      "\n",
      "    accuracy                           1.00    534854\n",
      "   macro avg       1.00      1.00      1.00    534854\n",
      "weighted avg       1.00      1.00      1.00    534854\n",
      " \n",
      "\n",
      "The classification report for testing is \n",
      "\n",
      "              precision    recall  f1-score   support\n",
      "\n",
      "           0       0.90      0.92      0.91     66972\n",
      "           1       0.34      0.30      0.32      9250\n",
      "\n",
      "    accuracy                           0.84     76222\n",
      "   macro avg       0.62      0.61      0.61     76222\n",
      "weighted avg       0.84      0.84      0.84     76222\n",
      " \n",
      "\n",
      "The scores are summed up in the dataframe below\n"
     ]
    },
    {
     "data": {
      "text/html": [
       "<div>\n",
       "<style scoped>\n",
       "    .dataframe tbody tr th:only-of-type {\n",
       "        vertical-align: middle;\n",
       "    }\n",
       "\n",
       "    .dataframe tbody tr th {\n",
       "        vertical-align: top;\n",
       "    }\n",
       "\n",
       "    .dataframe thead th {\n",
       "        text-align: right;\n",
       "    }\n",
       "</style>\n",
       "<table border=\"1\" class=\"dataframe\">\n",
       "  <thead>\n",
       "    <tr style=\"text-align: right;\">\n",
       "      <th></th>\n",
       "      <th>Train</th>\n",
       "      <th>Test</th>\n",
       "    </tr>\n",
       "  </thead>\n",
       "  <tbody>\n",
       "    <tr>\n",
       "      <th>Roc Auc</th>\n",
       "      <td>1.0</td>\n",
       "      <td>0.61</td>\n",
       "    </tr>\n",
       "    <tr>\n",
       "      <th>Accuracy</th>\n",
       "      <td>1.0</td>\n",
       "      <td>0.84</td>\n",
       "    </tr>\n",
       "    <tr>\n",
       "      <th>Recall</th>\n",
       "      <td>1.0</td>\n",
       "      <td>0.30</td>\n",
       "    </tr>\n",
       "    <tr>\n",
       "      <th>Precision</th>\n",
       "      <td>1.0</td>\n",
       "      <td>0.34</td>\n",
       "    </tr>\n",
       "    <tr>\n",
       "      <th>Log loss</th>\n",
       "      <td>0.0</td>\n",
       "      <td>5.38</td>\n",
       "    </tr>\n",
       "    <tr>\n",
       "      <th>F1 score</th>\n",
       "      <td>1.0</td>\n",
       "      <td>0.32</td>\n",
       "    </tr>\n",
       "  </tbody>\n",
       "</table>\n",
       "</div>"
      ],
      "text/plain": [
       "           Train  Test\n",
       "Roc Auc      1.0  0.61\n",
       "Accuracy     1.0  0.84\n",
       "Recall       1.0  0.30\n",
       "Precision    1.0  0.34\n",
       "Log loss     0.0  5.38\n",
       "F1 score     1.0  0.32"
      ]
     },
     "execution_count": 14,
     "metadata": {},
     "output_type": "execute_result"
    },
    {
     "data": {
      "image/png": "[encoded data removed]",
      "text/plain": [
       "<Figure size 1008x432 with 1 Axes>"
      ]
     },
     "metadata": {},
     "output_type": "display_data"
    }
   ],
   "source": [
    "get_metric(rf_clf)"
   ]
  },
  {
   "cell_type": "markdown",
   "id": "5b12829e-5a15-4f5d-9a88-dc8e709baf36",
   "metadata": {},
   "source": [
    "## Gridsearch random forest"
   ]
  },
  {
   "cell_type": "code",
   "execution_count": 15,
   "id": "9f11ee66-28f1-4fcc-a0fd-42a6a2d981a9",
   "metadata": {},
   "outputs": [],
   "source": [
    "cv = RepeatedStratifiedKFold(n_splits=5,n_repeats=2)"
   ]
  },
  {
   "cell_type": "code",
   "execution_count": 16,
   "id": "5a6b29dd-0c2d-4df6-a6f9-4c3ffe120542",
   "metadata": {},
   "outputs": [],
   "source": [
    "rf_param = {'n_estimators' : np.arange(60,120,15),\n",
    "            'max_depth' : [3, 4, 5],\n",
    "            'min_samples_leaf' : [1,2,5]\n",
    "           }"
   ]
  },
  {
   "cell_type": "code",
   "execution_count": 17,
   "id": "1a7be9c9-01bb-41f1-a1bd-5143e537b5fc",
   "metadata": {},
   "outputs": [
    {
     "name": "stdout",
     "output_type": "stream",
     "text": [
      "Fitting 10 folds for each of 36 candidates, totalling 360 fits\n",
      "[CV] END ...max_depth=3, min_samples_leaf=1, n_estimators=60; total time=  18.2s\n",
      "[CV] END ...max_depth=3, min_samples_leaf=1, n_estimators=60; total time=  10.9s\n",
      "[CV] END ...max_depth=3, min_samples_leaf=1, n_estimators=60; total time=  10.8s\n",
      "[CV] END ...max_depth=3, min_samples_leaf=1, n_estimators=60; total time=  11.2s\n",
      "[CV] END ...max_depth=3, min_samples_leaf=1, n_estimators=60; total time=  10.5s\n",
      "[CV] END ...max_depth=3, min_samples_leaf=1, n_estimators=60; total time=  10.5s\n",
      "[CV] END ...max_depth=3, min_samples_leaf=1, n_estimators=60; total time=  10.5s\n",
      "[CV] END ...max_depth=3, min_samples_leaf=1, n_estimators=60; total time=  10.7s\n",
      "[CV] END ...max_depth=3, min_samples_leaf=1, n_estimators=60; total time=  10.2s\n",
      "[CV] END ...max_depth=3, min_samples_leaf=1, n_estimators=60; total time=  10.4s\n",
      "[CV] END ...max_depth=3, min_samples_leaf=1, n_estimators=75; total time=  13.8s\n",
      "[CV] END ...max_depth=3, min_samples_leaf=1, n_estimators=75; total time=  13.1s\n",
      "[CV] END ...max_depth=3, min_samples_leaf=1, n_estimators=75; total time=  13.1s\n",
      "[CV] END ...max_depth=3, min_samples_leaf=1, n_estimators=75; total time=  13.0s\n",
      "[CV] END ...max_depth=3, min_samples_leaf=1, n_estimators=75; total time=  13.5s\n",
      "[CV] END ...max_depth=3, min_samples_leaf=1, n_estimators=75; total time=  12.8s\n",
      "[CV] END ...max_depth=3, min_samples_leaf=1, n_estimators=75; total time=  11.6s\n",
      "[CV] END ...max_depth=3, min_samples_leaf=1, n_estimators=75; total time=  11.1s\n",
      "[CV] END ...max_depth=3, min_samples_leaf=1, n_estimators=75; total time=  10.8s\n",
      "[CV] END ...max_depth=3, min_samples_leaf=1, n_estimators=75; total time=  11.1s\n",
      "[CV] END ...max_depth=3, min_samples_leaf=1, n_estimators=90; total time=  13.0s\n",
      "[CV] END ...max_depth=3, min_samples_leaf=1, n_estimators=90; total time=  13.3s\n",
      "[CV] END ...max_depth=3, min_samples_leaf=1, n_estimators=90; total time=  13.1s\n",
      "[CV] END ...max_depth=3, min_samples_leaf=1, n_estimators=90; total time=  13.0s\n",
      "[CV] END ...max_depth=3, min_samples_leaf=1, n_estimators=90; total time=  13.3s\n",
      "[CV] END ...max_depth=3, min_samples_leaf=1, n_estimators=90; total time=  12.8s\n",
      "[CV] END ...max_depth=3, min_samples_leaf=1, n_estimators=90; total time=  12.9s\n",
      "[CV] END ...max_depth=3, min_samples_leaf=1, n_estimators=90; total time=  12.7s\n",
      "[CV] END ...max_depth=3, min_samples_leaf=1, n_estimators=90; total time=  13.2s\n",
      "[CV] END ...max_depth=3, min_samples_leaf=1, n_estimators=90; total time=  12.7s\n",
      "[CV] END ..max_depth=3, min_samples_leaf=1, n_estimators=105; total time=  15.1s\n",
      "[CV] END ..max_depth=3, min_samples_leaf=1, n_estimators=105; total time=  15.2s\n",
      "[CV] END ..max_depth=3, min_samples_leaf=1, n_estimators=105; total time=  15.0s\n",
      "[CV] END ..max_depth=3, min_samples_leaf=1, n_estimators=105; total time=  15.4s\n",
      "[CV] END ..max_depth=3, min_samples_leaf=1, n_estimators=105; total time=  15.3s\n",
      "[CV] END ..max_depth=3, min_samples_leaf=1, n_estimators=105; total time=  15.5s\n",
      "[CV] END ..max_depth=3, min_samples_leaf=1, n_estimators=105; total time=  17.3s\n",
      "[CV] END ..max_depth=3, min_samples_leaf=1, n_estimators=105; total time=  18.9s\n",
      "[CV] END ..max_depth=3, min_samples_leaf=1, n_estimators=105; total time=  18.0s\n",
      "[CV] END ..max_depth=3, min_samples_leaf=1, n_estimators=105; total time=  17.6s\n",
      "[CV] END ...max_depth=3, min_samples_leaf=2, n_estimators=60; total time=  10.2s\n",
      "[CV] END ...max_depth=3, min_samples_leaf=2, n_estimators=60; total time=  10.5s\n",
      "[CV] END ...max_depth=3, min_samples_leaf=2, n_estimators=60; total time=  10.7s\n",
      "[CV] END ...max_depth=3, min_samples_leaf=2, n_estimators=60; total time=  10.4s\n",
      "[CV] END ...max_depth=3, min_samples_leaf=2, n_estimators=60; total time=  10.4s\n",
      "[CV] END ...max_depth=3, min_samples_leaf=2, n_estimators=60; total time=  10.2s\n",
      "[CV] END ...max_depth=3, min_samples_leaf=2, n_estimators=60; total time=  10.6s\n",
      "[CV] END ...max_depth=3, min_samples_leaf=2, n_estimators=60; total time=  10.3s\n",
      "[CV] END ...max_depth=3, min_samples_leaf=2, n_estimators=60; total time=  10.2s\n",
      "[CV] END ...max_depth=3, min_samples_leaf=2, n_estimators=60; total time=  10.6s\n",
      "[CV] END ...max_depth=3, min_samples_leaf=2, n_estimators=75; total time=  13.3s\n",
      "[CV] END ...max_depth=3, min_samples_leaf=2, n_estimators=75; total time=  12.9s\n",
      "[CV] END ...max_depth=3, min_samples_leaf=2, n_estimators=75; total time=  12.7s\n",
      "[CV] END ...max_depth=3, min_samples_leaf=2, n_estimators=75; total time=  13.2s\n",
      "[CV] END ...max_depth=3, min_samples_leaf=2, n_estimators=75; total time=  13.1s\n",
      "[CV] END ...max_depth=3, min_samples_leaf=2, n_estimators=75; total time=  12.8s\n",
      "[CV] END ...max_depth=3, min_samples_leaf=2, n_estimators=75; total time=  12.9s\n",
      "[CV] END ...max_depth=3, min_samples_leaf=2, n_estimators=75; total time=  12.9s\n",
      "[CV] END ...max_depth=3, min_samples_leaf=2, n_estimators=75; total time=  13.1s\n",
      "[CV] END ...max_depth=3, min_samples_leaf=2, n_estimators=75; total time=  12.9s\n",
      "[CV] END ...max_depth=3, min_samples_leaf=2, n_estimators=90; total time=  15.7s\n",
      "[CV] END ...max_depth=3, min_samples_leaf=2, n_estimators=90; total time=  15.4s\n",
      "[CV] END ...max_depth=3, min_samples_leaf=2, n_estimators=90; total time=  15.4s\n",
      "[CV] END ...max_depth=3, min_samples_leaf=2, n_estimators=90; total time=  15.6s\n",
      "[CV] END ...max_depth=3, min_samples_leaf=2, n_estimators=90; total time=  15.3s\n",
      "[CV] END ...max_depth=3, min_samples_leaf=2, n_estimators=90; total time=  15.5s\n",
      "[CV] END ...max_depth=3, min_samples_leaf=2, n_estimators=90; total time=  15.4s\n",
      "[CV] END ...max_depth=3, min_samples_leaf=2, n_estimators=90; total time=  15.6s\n",
      "[CV] END ...max_depth=3, min_samples_leaf=2, n_estimators=90; total time=  15.4s\n",
      "[CV] END ...max_depth=3, min_samples_leaf=2, n_estimators=90; total time=  13.3s\n",
      "[CV] END ..max_depth=3, min_samples_leaf=2, n_estimators=105; total time=  16.8s\n",
      "[CV] END ..max_depth=3, min_samples_leaf=2, n_estimators=105; total time=  18.0s\n",
      "[CV] END ..max_depth=3, min_samples_leaf=2, n_estimators=105; total time=  17.5s\n",
      "[CV] END ..max_depth=3, min_samples_leaf=2, n_estimators=105; total time=  17.7s\n",
      "[CV] END ..max_depth=3, min_samples_leaf=2, n_estimators=105; total time=  17.6s\n",
      "[CV] END ..max_depth=3, min_samples_leaf=2, n_estimators=105; total time=  17.7s\n",
      "[CV] END ..max_depth=3, min_samples_leaf=2, n_estimators=105; total time=  17.7s\n",
      "[CV] END ..max_depth=3, min_samples_leaf=2, n_estimators=105; total time=  18.8s\n",
      "[CV] END ..max_depth=3, min_samples_leaf=2, n_estimators=105; total time=  17.7s\n",
      "[CV] END ..max_depth=3, min_samples_leaf=2, n_estimators=105; total time=  18.8s\n",
      "[CV] END ...max_depth=3, min_samples_leaf=5, n_estimators=60; total time=   9.7s\n",
      "[CV] END ...max_depth=3, min_samples_leaf=5, n_estimators=60; total time=  11.6s\n",
      "[CV] END ...max_depth=3, min_samples_leaf=5, n_estimators=60; total time=  13.3s\n",
      "[CV] END ...max_depth=3, min_samples_leaf=5, n_estimators=60; total time=  10.8s\n",
      "[CV] END ...max_depth=3, min_samples_leaf=5, n_estimators=60; total time=  10.6s\n",
      "[CV] END ...max_depth=3, min_samples_leaf=5, n_estimators=60; total time=  10.4s\n",
      "[CV] END ...max_depth=3, min_samples_leaf=5, n_estimators=60; total time=  10.6s\n",
      "[CV] END ...max_depth=3, min_samples_leaf=5, n_estimators=60; total time=  10.4s\n",
      "[CV] END ...max_depth=3, min_samples_leaf=5, n_estimators=60; total time=  10.6s\n",
      "[CV] END ...max_depth=3, min_samples_leaf=5, n_estimators=60; total time=  11.8s\n",
      "[CV] END ...max_depth=3, min_samples_leaf=5, n_estimators=75; total time=  13.1s\n",
      "[CV] END ...max_depth=3, min_samples_leaf=5, n_estimators=75; total time=  13.5s\n",
      "[CV] END ...max_depth=3, min_samples_leaf=5, n_estimators=75; total time=  14.1s\n",
      "[CV] END ...max_depth=3, min_samples_leaf=5, n_estimators=75; total time=  12.9s\n",
      "[CV] END ...max_depth=3, min_samples_leaf=5, n_estimators=75; total time=  13.4s\n",
      "[CV] END ...max_depth=3, min_samples_leaf=5, n_estimators=75; total time=  13.3s\n",
      "[CV] END ...max_depth=3, min_samples_leaf=5, n_estimators=75; total time=  13.4s\n",
      "[CV] END ...max_depth=3, min_samples_leaf=5, n_estimators=75; total time=  13.1s\n",
      "[CV] END ...max_depth=3, min_samples_leaf=5, n_estimators=75; total time=  11.4s\n",
      "[CV] END ...max_depth=3, min_samples_leaf=5, n_estimators=75; total time=  13.0s\n",
      "[CV] END ...max_depth=3, min_samples_leaf=5, n_estimators=90; total time=  15.5s\n",
      "[CV] END ...max_depth=3, min_samples_leaf=5, n_estimators=90; total time=  15.5s\n",
      "[CV] END ...max_depth=3, min_samples_leaf=5, n_estimators=90; total time=  15.2s\n",
      "[CV] END ...max_depth=3, min_samples_leaf=5, n_estimators=90; total time=  15.3s\n",
      "[CV] END ...max_depth=3, min_samples_leaf=5, n_estimators=90; total time=  15.6s\n",
      "[CV] END ...max_depth=3, min_samples_leaf=5, n_estimators=90; total time=  16.0s\n",
      "[CV] END ...max_depth=3, min_samples_leaf=5, n_estimators=90; total time=  15.5s\n",
      "[CV] END ...max_depth=3, min_samples_leaf=5, n_estimators=90; total time=  15.6s\n",
      "[CV] END ...max_depth=3, min_samples_leaf=5, n_estimators=90; total time=  15.3s\n",
      "[CV] END ...max_depth=3, min_samples_leaf=5, n_estimators=90; total time=  15.1s\n",
      "[CV] END ..max_depth=3, min_samples_leaf=5, n_estimators=105; total time=  17.7s\n",
      "[CV] END ..max_depth=3, min_samples_leaf=5, n_estimators=105; total time=  17.9s\n",
      "[CV] END ..max_depth=3, min_samples_leaf=5, n_estimators=105; total time=  18.1s\n",
      "[CV] END ..max_depth=3, min_samples_leaf=5, n_estimators=105; total time=  17.9s\n",
      "[CV] END ..max_depth=3, min_samples_leaf=5, n_estimators=105; total time=  17.7s\n",
      "[CV] END ..max_depth=3, min_samples_leaf=5, n_estimators=105; total time=  18.1s\n",
      "[CV] END ..max_depth=3, min_samples_leaf=5, n_estimators=105; total time=  17.7s\n",
      "[CV] END ..max_depth=3, min_samples_leaf=5, n_estimators=105; total time=  18.0s\n",
      "[CV] END ..max_depth=3, min_samples_leaf=5, n_estimators=105; total time=  19.2s\n",
      "[CV] END ..max_depth=3, min_samples_leaf=5, n_estimators=105; total time=  17.9s\n",
      "[CV] END ...max_depth=4, min_samples_leaf=1, n_estimators=60; total time=  12.5s\n",
      "[CV] END ...max_depth=4, min_samples_leaf=1, n_estimators=60; total time=  12.6s\n",
      "[CV] END ...max_depth=4, min_samples_leaf=1, n_estimators=60; total time=  13.1s\n",
      "[CV] END ...max_depth=4, min_samples_leaf=1, n_estimators=60; total time=  12.6s\n",
      "[CV] END ...max_depth=4, min_samples_leaf=1, n_estimators=60; total time=  12.6s\n",
      "[CV] END ...max_depth=4, min_samples_leaf=1, n_estimators=60; total time=  12.8s\n",
      "[CV] END ...max_depth=4, min_samples_leaf=1, n_estimators=60; total time=  12.5s\n",
      "[CV] END ...max_depth=4, min_samples_leaf=1, n_estimators=60; total time=  12.6s\n",
      "[CV] END ...max_depth=4, min_samples_leaf=1, n_estimators=60; total time=  12.3s\n",
      "[CV] END ...max_depth=4, min_samples_leaf=1, n_estimators=60; total time=  12.4s\n",
      "[CV] END ...max_depth=4, min_samples_leaf=1, n_estimators=75; total time=  16.1s\n",
      "[CV] END ...max_depth=4, min_samples_leaf=1, n_estimators=75; total time=  15.7s\n",
      "[CV] END ...max_depth=4, min_samples_leaf=1, n_estimators=75; total time=  15.4s\n",
      "[CV] END ...max_depth=4, min_samples_leaf=1, n_estimators=75; total time=  15.4s\n",
      "[CV] END ...max_depth=4, min_samples_leaf=1, n_estimators=75; total time=  15.3s\n",
      "[CV] END ...max_depth=4, min_samples_leaf=1, n_estimators=75; total time=  15.2s\n",
      "[CV] END ...max_depth=4, min_samples_leaf=1, n_estimators=75; total time=  15.6s\n",
      "[CV] END ...max_depth=4, min_samples_leaf=1, n_estimators=75; total time=  15.8s\n",
      "[CV] END ...max_depth=4, min_samples_leaf=1, n_estimators=75; total time=  15.2s\n",
      "[CV] END ...max_depth=4, min_samples_leaf=1, n_estimators=75; total time=  15.8s\n",
      "[CV] END ...max_depth=4, min_samples_leaf=1, n_estimators=90; total time=  18.1s\n",
      "[CV] END ...max_depth=4, min_samples_leaf=1, n_estimators=90; total time=  19.2s\n",
      "[CV] END ...max_depth=4, min_samples_leaf=1, n_estimators=90; total time=  19.1s\n",
      "[CV] END ...max_depth=4, min_samples_leaf=1, n_estimators=90; total time=  18.6s\n",
      "[CV] END ...max_depth=4, min_samples_leaf=1, n_estimators=90; total time=  18.3s\n",
      "[CV] END ...max_depth=4, min_samples_leaf=1, n_estimators=90; total time=  18.4s\n",
      "[CV] END ...max_depth=4, min_samples_leaf=1, n_estimators=90; total time=  18.5s\n",
      "[CV] END ...max_depth=4, min_samples_leaf=1, n_estimators=90; total time=  18.0s\n",
      "[CV] END ...max_depth=4, min_samples_leaf=1, n_estimators=90; total time=  18.1s\n",
      "[CV] END ...max_depth=4, min_samples_leaf=1, n_estimators=90; total time=  18.2s\n",
      "[CV] END ..max_depth=4, min_samples_leaf=1, n_estimators=105; total time=  20.8s\n",
      "[CV] END ..max_depth=4, min_samples_leaf=1, n_estimators=105; total time=  23.0s\n",
      "[CV] END ..max_depth=4, min_samples_leaf=1, n_estimators=105; total time=  21.7s\n",
      "[CV] END ..max_depth=4, min_samples_leaf=1, n_estimators=105; total time=  21.5s\n",
      "[CV] END ..max_depth=4, min_samples_leaf=1, n_estimators=105; total time=  25.3s\n",
      "[CV] END ..max_depth=4, min_samples_leaf=1, n_estimators=105; total time=  22.2s\n",
      "[CV] END ..max_depth=4, min_samples_leaf=1, n_estimators=105; total time=  20.9s\n",
      "[CV] END ..max_depth=4, min_samples_leaf=1, n_estimators=105; total time=  21.6s\n",
      "[CV] END ..max_depth=4, min_samples_leaf=1, n_estimators=105; total time=  22.0s\n",
      "[CV] END ..max_depth=4, min_samples_leaf=1, n_estimators=105; total time=  21.4s\n",
      "[CV] END ...max_depth=4, min_samples_leaf=2, n_estimators=60; total time=  12.5s\n",
      "[CV] END ...max_depth=4, min_samples_leaf=2, n_estimators=60; total time=  12.4s\n",
      "[CV] END ...max_depth=4, min_samples_leaf=2, n_estimators=60; total time=  12.5s\n",
      "[CV] END ...max_depth=4, min_samples_leaf=2, n_estimators=60; total time=  12.0s\n",
      "[CV] END ...max_depth=4, min_samples_leaf=2, n_estimators=60; total time=  12.6s\n",
      "[CV] END ...max_depth=4, min_samples_leaf=2, n_estimators=60; total time=  12.9s\n",
      "[CV] END ...max_depth=4, min_samples_leaf=2, n_estimators=60; total time=  12.6s\n",
      "[CV] END ...max_depth=4, min_samples_leaf=2, n_estimators=60; total time=  12.4s\n",
      "[CV] END ...max_depth=4, min_samples_leaf=2, n_estimators=60; total time=  13.3s\n",
      "[CV] END ...max_depth=4, min_samples_leaf=2, n_estimators=60; total time=  12.2s\n",
      "[CV] END ...max_depth=4, min_samples_leaf=2, n_estimators=75; total time=  15.2s\n",
      "[CV] END ...max_depth=4, min_samples_leaf=2, n_estimators=75; total time=  15.5s\n",
      "[CV] END ...max_depth=4, min_samples_leaf=2, n_estimators=75; total time=  15.3s\n",
      "[CV] END ...max_depth=4, min_samples_leaf=2, n_estimators=75; total time=  15.3s\n",
      "[CV] END ...max_depth=4, min_samples_leaf=2, n_estimators=75; total time=  15.2s\n",
      "[CV] END ...max_depth=4, min_samples_leaf=2, n_estimators=75; total time=  14.8s\n",
      "[CV] END ...max_depth=4, min_samples_leaf=2, n_estimators=75; total time=  15.7s\n",
      "[CV] END ...max_depth=4, min_samples_leaf=2, n_estimators=75; total time=  15.0s\n",
      "[CV] END ...max_depth=4, min_samples_leaf=2, n_estimators=75; total time=  15.5s\n",
      "[CV] END ...max_depth=4, min_samples_leaf=2, n_estimators=75; total time=  14.5s\n",
      "[CV] END ...max_depth=4, min_samples_leaf=2, n_estimators=90; total time=  17.4s\n",
      "[CV] END ...max_depth=4, min_samples_leaf=2, n_estimators=90; total time=  17.6s\n",
      "[CV] END ...max_depth=4, min_samples_leaf=2, n_estimators=90; total time=  16.9s\n",
      "[CV] END ...max_depth=4, min_samples_leaf=2, n_estimators=90; total time=  16.2s\n",
      "[CV] END ...max_depth=4, min_samples_leaf=2, n_estimators=90; total time=  16.4s\n",
      "[CV] END ...max_depth=4, min_samples_leaf=2, n_estimators=90; total time=  16.4s\n",
      "[CV] END ...max_depth=4, min_samples_leaf=2, n_estimators=90; total time=  16.8s\n",
      "[CV] END ...max_depth=4, min_samples_leaf=2, n_estimators=90; total time=  16.3s\n",
      "[CV] END ...max_depth=4, min_samples_leaf=2, n_estimators=90; total time=  16.0s\n",
      "[CV] END ...max_depth=4, min_samples_leaf=2, n_estimators=90; total time=  16.2s\n",
      "[CV] END ..max_depth=4, min_samples_leaf=2, n_estimators=105; total time=  18.8s\n",
      "[CV] END ..max_depth=4, min_samples_leaf=2, n_estimators=105; total time=  18.6s\n",
      "[CV] END ..max_depth=4, min_samples_leaf=2, n_estimators=105; total time=  18.7s\n",
      "[CV] END ..max_depth=4, min_samples_leaf=2, n_estimators=105; total time=  18.7s\n",
      "[CV] END ..max_depth=4, min_samples_leaf=2, n_estimators=105; total time=  18.6s\n",
      "[CV] END ..max_depth=4, min_samples_leaf=2, n_estimators=105; total time=  20.5s\n",
      "[CV] END ..max_depth=4, min_samples_leaf=2, n_estimators=105; total time=  19.8s\n",
      "[CV] END ..max_depth=4, min_samples_leaf=2, n_estimators=105; total time=  20.2s\n",
      "[CV] END ..max_depth=4, min_samples_leaf=2, n_estimators=105; total time=  19.5s\n",
      "[CV] END ..max_depth=4, min_samples_leaf=2, n_estimators=105; total time=  18.5s\n",
      "[CV] END ...max_depth=4, min_samples_leaf=5, n_estimators=60; total time=  11.0s\n",
      "[CV] END ...max_depth=4, min_samples_leaf=5, n_estimators=60; total time=  11.1s\n",
      "[CV] END ...max_depth=4, min_samples_leaf=5, n_estimators=60; total time=  11.2s\n",
      "[CV] END ...max_depth=4, min_samples_leaf=5, n_estimators=60; total time=  11.3s\n",
      "[CV] END ...max_depth=4, min_samples_leaf=5, n_estimators=60; total time=  11.2s\n",
      "[CV] END ...max_depth=4, min_samples_leaf=5, n_estimators=60; total time=  10.9s\n",
      "[CV] END ...max_depth=4, min_samples_leaf=5, n_estimators=60; total time=  10.9s\n",
      "[CV] END ...max_depth=4, min_samples_leaf=5, n_estimators=60; total time=  11.3s\n",
      "[CV] END ...max_depth=4, min_samples_leaf=5, n_estimators=60; total time=  11.1s\n",
      "[CV] END ...max_depth=4, min_samples_leaf=5, n_estimators=60; total time=  10.9s\n",
      "[CV] END ...max_depth=4, min_samples_leaf=5, n_estimators=75; total time=  13.5s\n",
      "[CV] END ...max_depth=4, min_samples_leaf=5, n_estimators=75; total time=  13.7s\n",
      "[CV] END ...max_depth=4, min_samples_leaf=5, n_estimators=75; total time=  13.6s\n",
      "[CV] END ...max_depth=4, min_samples_leaf=5, n_estimators=75; total time=  13.8s\n",
      "[CV] END ...max_depth=4, min_samples_leaf=5, n_estimators=75; total time=  13.7s\n",
      "[CV] END ...max_depth=4, min_samples_leaf=5, n_estimators=75; total time=  13.6s\n",
      "[CV] END ...max_depth=4, min_samples_leaf=5, n_estimators=75; total time=  13.2s\n",
      "[CV] END ...max_depth=4, min_samples_leaf=5, n_estimators=75; total time=  13.7s\n",
      "[CV] END ...max_depth=4, min_samples_leaf=5, n_estimators=75; total time=  13.8s\n",
      "[CV] END ...max_depth=4, min_samples_leaf=5, n_estimators=75; total time=  13.7s\n",
      "[CV] END ...max_depth=4, min_samples_leaf=5, n_estimators=90; total time=  16.0s\n",
      "[CV] END ...max_depth=4, min_samples_leaf=5, n_estimators=90; total time=  16.2s\n",
      "[CV] END ...max_depth=4, min_samples_leaf=5, n_estimators=90; total time=  16.9s\n",
      "[CV] END ...max_depth=4, min_samples_leaf=5, n_estimators=90; total time=  17.4s\n",
      "[CV] END ...max_depth=4, min_samples_leaf=5, n_estimators=90; total time=  16.5s\n",
      "[CV] END ...max_depth=4, min_samples_leaf=5, n_estimators=90; total time=  15.9s\n",
      "[CV] END ...max_depth=4, min_samples_leaf=5, n_estimators=90; total time=  16.3s\n",
      "[CV] END ...max_depth=4, min_samples_leaf=5, n_estimators=90; total time=  16.1s\n",
      "[CV] END ...max_depth=4, min_samples_leaf=5, n_estimators=90; total time=  16.2s\n",
      "[CV] END ...max_depth=4, min_samples_leaf=5, n_estimators=90; total time=  16.4s\n",
      "[CV] END ..max_depth=4, min_samples_leaf=5, n_estimators=105; total time=  18.8s\n",
      "[CV] END ..max_depth=4, min_samples_leaf=5, n_estimators=105; total time=  19.1s\n",
      "[CV] END ..max_depth=4, min_samples_leaf=5, n_estimators=105; total time=  19.0s\n",
      "[CV] END ..max_depth=4, min_samples_leaf=5, n_estimators=105; total time=  18.8s\n",
      "[CV] END ..max_depth=4, min_samples_leaf=5, n_estimators=105; total time=  19.1s\n",
      "[CV] END ..max_depth=4, min_samples_leaf=5, n_estimators=105; total time=  18.8s\n",
      "[CV] END ..max_depth=4, min_samples_leaf=5, n_estimators=105; total time=  18.7s\n",
      "[CV] END ..max_depth=4, min_samples_leaf=5, n_estimators=105; total time=  18.8s\n",
      "[CV] END ..max_depth=4, min_samples_leaf=5, n_estimators=105; total time=  19.6s\n",
      "[CV] END ..max_depth=4, min_samples_leaf=5, n_estimators=105; total time=  18.6s\n",
      "[CV] END ...max_depth=5, min_samples_leaf=1, n_estimators=60; total time=  12.3s\n",
      "[CV] END ...max_depth=5, min_samples_leaf=1, n_estimators=60; total time=  12.7s\n",
      "[CV] END ...max_depth=5, min_samples_leaf=1, n_estimators=60; total time=  12.7s\n",
      "[CV] END ...max_depth=5, min_samples_leaf=1, n_estimators=60; total time=  13.0s\n",
      "[CV] END ...max_depth=5, min_samples_leaf=1, n_estimators=60; total time=  14.0s\n",
      "[CV] END ...max_depth=5, min_samples_leaf=1, n_estimators=60; total time=  13.1s\n",
      "[CV] END ...max_depth=5, min_samples_leaf=1, n_estimators=60; total time=  13.4s\n",
      "[CV] END ...max_depth=5, min_samples_leaf=1, n_estimators=60; total time=  13.1s\n",
      "[CV] END ...max_depth=5, min_samples_leaf=1, n_estimators=60; total time=  13.4s\n",
      "[CV] END ...max_depth=5, min_samples_leaf=1, n_estimators=60; total time=  13.5s\n",
      "[CV] END ...max_depth=5, min_samples_leaf=1, n_estimators=75; total time=  16.8s\n",
      "[CV] END ...max_depth=5, min_samples_leaf=1, n_estimators=75; total time=  16.5s\n",
      "[CV] END ...max_depth=5, min_samples_leaf=1, n_estimators=75; total time=  17.4s\n",
      "[CV] END ...max_depth=5, min_samples_leaf=1, n_estimators=75; total time=  16.9s\n",
      "[CV] END ...max_depth=5, min_samples_leaf=1, n_estimators=75; total time=  16.6s\n",
      "[CV] END ...max_depth=5, min_samples_leaf=1, n_estimators=75; total time=  16.7s\n",
      "[CV] END ...max_depth=5, min_samples_leaf=1, n_estimators=75; total time=  17.2s\n",
      "[CV] END ...max_depth=5, min_samples_leaf=1, n_estimators=75; total time=  16.3s\n",
      "[CV] END ...max_depth=5, min_samples_leaf=1, n_estimators=75; total time=  16.5s\n",
      "[CV] END ...max_depth=5, min_samples_leaf=1, n_estimators=75; total time=  18.1s\n",
      "[CV] END ...max_depth=5, min_samples_leaf=1, n_estimators=90; total time=  19.6s\n",
      "[CV] END ...max_depth=5, min_samples_leaf=1, n_estimators=90; total time=  21.6s\n",
      "[CV] END ...max_depth=5, min_samples_leaf=1, n_estimators=90; total time=  23.9s\n",
      "[CV] END ...max_depth=5, min_samples_leaf=1, n_estimators=90; total time=  22.3s\n",
      "[CV] END ...max_depth=5, min_samples_leaf=1, n_estimators=90; total time=  19.5s\n",
      "[CV] END ...max_depth=5, min_samples_leaf=1, n_estimators=90; total time=  20.8s\n",
      "[CV] END ...max_depth=5, min_samples_leaf=1, n_estimators=90; total time=  20.3s\n",
      "[CV] END ...max_depth=5, min_samples_leaf=1, n_estimators=90; total time=  20.3s\n",
      "[CV] END ...max_depth=5, min_samples_leaf=1, n_estimators=90; total time=  20.1s\n",
      "[CV] END ...max_depth=5, min_samples_leaf=1, n_estimators=90; total time=  22.0s\n",
      "[CV] END ..max_depth=5, min_samples_leaf=1, n_estimators=105; total time=  24.4s\n",
      "[CV] END ..max_depth=5, min_samples_leaf=1, n_estimators=105; total time=  23.1s\n",
      "[CV] END ..max_depth=5, min_samples_leaf=1, n_estimators=105; total time=  23.0s\n",
      "[CV] END ..max_depth=5, min_samples_leaf=1, n_estimators=105; total time=  22.7s\n",
      "[CV] END ..max_depth=5, min_samples_leaf=1, n_estimators=105; total time=  22.8s\n",
      "[CV] END ..max_depth=5, min_samples_leaf=1, n_estimators=105; total time=  24.0s\n",
      "[CV] END ..max_depth=5, min_samples_leaf=1, n_estimators=105; total time=  24.2s\n",
      "[CV] END ..max_depth=5, min_samples_leaf=1, n_estimators=105; total time=  22.9s\n",
      "[CV] END ..max_depth=5, min_samples_leaf=1, n_estimators=105; total time=  23.0s\n",
      "[CV] END ..max_depth=5, min_samples_leaf=1, n_estimators=105; total time=  23.9s\n",
      "[CV] END ...max_depth=5, min_samples_leaf=2, n_estimators=60; total time=  13.8s\n",
      "[CV] END ...max_depth=5, min_samples_leaf=2, n_estimators=60; total time=  13.9s\n",
      "[CV] END ...max_depth=5, min_samples_leaf=2, n_estimators=60; total time=  14.9s\n",
      "[CV] END ...max_depth=5, min_samples_leaf=2, n_estimators=60; total time=  13.3s\n",
      "[CV] END ...max_depth=5, min_samples_leaf=2, n_estimators=60; total time=  13.8s\n",
      "[CV] END ...max_depth=5, min_samples_leaf=2, n_estimators=60; total time=  13.6s\n",
      "[CV] END ...max_depth=5, min_samples_leaf=2, n_estimators=60; total time=  13.6s\n",
      "[CV] END ...max_depth=5, min_samples_leaf=2, n_estimators=60; total time=  13.3s\n",
      "[CV] END ...max_depth=5, min_samples_leaf=2, n_estimators=60; total time=  15.4s\n",
      "[CV] END ...max_depth=5, min_samples_leaf=2, n_estimators=60; total time=  13.8s\n",
      "[CV] END ...max_depth=5, min_samples_leaf=2, n_estimators=75; total time=  15.9s\n",
      "[CV] END ...max_depth=5, min_samples_leaf=2, n_estimators=75; total time=  17.3s\n",
      "[CV] END ...max_depth=5, min_samples_leaf=2, n_estimators=75; total time=  16.2s\n",
      "[CV] END ...max_depth=5, min_samples_leaf=2, n_estimators=75; total time=  17.9s\n",
      "[CV] END ...max_depth=5, min_samples_leaf=2, n_estimators=75; total time=  16.0s\n",
      "[CV] END ...max_depth=5, min_samples_leaf=2, n_estimators=75; total time=  16.7s\n",
      "[CV] END ...max_depth=5, min_samples_leaf=2, n_estimators=75; total time=  18.8s\n",
      "[CV] END ...max_depth=5, min_samples_leaf=2, n_estimators=75; total time=  18.1s\n",
      "[CV] END ...max_depth=5, min_samples_leaf=2, n_estimators=75; total time=  19.1s\n",
      "[CV] END ...max_depth=5, min_samples_leaf=2, n_estimators=75; total time=  17.1s\n",
      "[CV] END ...max_depth=5, min_samples_leaf=2, n_estimators=90; total time=  21.3s\n",
      "[CV] END ...max_depth=5, min_samples_leaf=2, n_estimators=90; total time=  21.6s\n",
      "[CV] END ...max_depth=5, min_samples_leaf=2, n_estimators=90; total time=  20.9s\n",
      "[CV] END ...max_depth=5, min_samples_leaf=2, n_estimators=90; total time=  21.6s\n",
      "[CV] END ...max_depth=5, min_samples_leaf=2, n_estimators=90; total time=  20.4s\n",
      "[CV] END ...max_depth=5, min_samples_leaf=2, n_estimators=90; total time=  23.0s\n",
      "[CV] END ...max_depth=5, min_samples_leaf=2, n_estimators=90; total time=  21.7s\n",
      "[CV] END ...max_depth=5, min_samples_leaf=2, n_estimators=90; total time=  19.6s\n",
      "[CV] END ...max_depth=5, min_samples_leaf=2, n_estimators=90; total time=  21.2s\n",
      "[CV] END ...max_depth=5, min_samples_leaf=2, n_estimators=90; total time=  21.7s\n",
      "[CV] END ..max_depth=5, min_samples_leaf=2, n_estimators=105; total time=  23.8s\n",
      "[CV] END ..max_depth=5, min_samples_leaf=2, n_estimators=105; total time=  25.8s\n",
      "[CV] END ..max_depth=5, min_samples_leaf=2, n_estimators=105; total time=  23.9s\n",
      "[CV] END ..max_depth=5, min_samples_leaf=2, n_estimators=105; total time=  23.9s\n",
      "[CV] END ..max_depth=5, min_samples_leaf=2, n_estimators=105; total time=  25.8s\n",
      "[CV] END ..max_depth=5, min_samples_leaf=2, n_estimators=105; total time=  26.7s\n",
      "[CV] END ..max_depth=5, min_samples_leaf=2, n_estimators=105; total time=  24.9s\n",
      "[CV] END ..max_depth=5, min_samples_leaf=2, n_estimators=105; total time=  24.9s\n",
      "[CV] END ..max_depth=5, min_samples_leaf=2, n_estimators=105; total time=  23.0s\n",
      "[CV] END ..max_depth=5, min_samples_leaf=2, n_estimators=105; total time=  23.6s\n",
      "[CV] END ...max_depth=5, min_samples_leaf=5, n_estimators=60; total time=  14.8s\n",
      "[CV] END ...max_depth=5, min_samples_leaf=5, n_estimators=60; total time=  15.5s\n",
      "[CV] END ...max_depth=5, min_samples_leaf=5, n_estimators=60; total time=  15.2s\n",
      "[CV] END ...max_depth=5, min_samples_leaf=5, n_estimators=60; total time=  15.3s\n",
      "[CV] END ...max_depth=5, min_samples_leaf=5, n_estimators=60; total time=  15.0s\n",
      "[CV] END ...max_depth=5, min_samples_leaf=5, n_estimators=60; total time=  15.3s\n",
      "[CV] END ...max_depth=5, min_samples_leaf=5, n_estimators=60; total time=  14.5s\n",
      "[CV] END ...max_depth=5, min_samples_leaf=5, n_estimators=60; total time=  15.3s\n",
      "[CV] END ...max_depth=5, min_samples_leaf=5, n_estimators=60; total time=  14.8s\n",
      "[CV] END ...max_depth=5, min_samples_leaf=5, n_estimators=60; total time=  13.8s\n",
      "[CV] END ...max_depth=5, min_samples_leaf=5, n_estimators=75; total time=  18.5s\n",
      "[CV] END ...max_depth=5, min_samples_leaf=5, n_estimators=75; total time=  17.6s\n",
      "[CV] END ...max_depth=5, min_samples_leaf=5, n_estimators=75; total time=  18.1s\n",
      "[CV] END ...max_depth=5, min_samples_leaf=5, n_estimators=75; total time=  19.2s\n",
      "[CV] END ...max_depth=5, min_samples_leaf=5, n_estimators=75; total time=  21.5s\n",
      "[CV] END ...max_depth=5, min_samples_leaf=5, n_estimators=75; total time=  19.0s\n",
      "[CV] END ...max_depth=5, min_samples_leaf=5, n_estimators=75; total time=  18.2s\n",
      "[CV] END ...max_depth=5, min_samples_leaf=5, n_estimators=75; total time=  18.6s\n",
      "[CV] END ...max_depth=5, min_samples_leaf=5, n_estimators=75; total time=  17.7s\n",
      "[CV] END ...max_depth=5, min_samples_leaf=5, n_estimators=75; total time=  19.6s\n",
      "[CV] END ...max_depth=5, min_samples_leaf=5, n_estimators=90; total time=  22.8s\n",
      "[CV] END ...max_depth=5, min_samples_leaf=5, n_estimators=90; total time=  23.1s\n",
      "[CV] END ...max_depth=5, min_samples_leaf=5, n_estimators=90; total time=  21.5s\n",
      "[CV] END ...max_depth=5, min_samples_leaf=5, n_estimators=90; total time=  23.3s\n",
      "[CV] END ...max_depth=5, min_samples_leaf=5, n_estimators=90; total time=  20.8s\n",
      "[CV] END ...max_depth=5, min_samples_leaf=5, n_estimators=90; total time=  20.9s\n",
      "[CV] END ...max_depth=5, min_samples_leaf=5, n_estimators=90; total time=  21.9s\n",
      "[CV] END ...max_depth=5, min_samples_leaf=5, n_estimators=90; total time=  20.9s\n",
      "[CV] END ...max_depth=5, min_samples_leaf=5, n_estimators=90; total time=  22.1s\n",
      "[CV] END ...max_depth=5, min_samples_leaf=5, n_estimators=90; total time=  21.1s\n",
      "[CV] END ..max_depth=5, min_samples_leaf=5, n_estimators=105; total time=  23.7s\n",
      "[CV] END ..max_depth=5, min_samples_leaf=5, n_estimators=105; total time=  24.0s\n",
      "[CV] END ..max_depth=5, min_samples_leaf=5, n_estimators=105; total time=  24.3s\n",
      "[CV] END ..max_depth=5, min_samples_leaf=5, n_estimators=105; total time=  25.7s\n",
      "[CV] END ..max_depth=5, min_samples_leaf=5, n_estimators=105; total time=  26.3s\n",
      "[CV] END ..max_depth=5, min_samples_leaf=5, n_estimators=105; total time=  25.1s\n",
      "[CV] END ..max_depth=5, min_samples_leaf=5, n_estimators=105; total time=  25.8s\n",
      "[CV] END ..max_depth=5, min_samples_leaf=5, n_estimators=105; total time=  24.9s\n",
      "[CV] END ..max_depth=5, min_samples_leaf=5, n_estimators=105; total time=  24.2s\n",
      "[CV] END ..max_depth=5, min_samples_leaf=5, n_estimators=105; total time=  24.3s\n"
     ]
    },
    {
     "data": {
      "text/plain": [
       "GridSearchCV(cv=RepeatedStratifiedKFold(n_repeats=2, n_splits=5, random_state=None),\n",
       "             estimator=RandomForestClassifier(n_jobs=10),\n",
       "             param_grid={'max_depth': [3, 4, 5], 'min_samples_leaf': [1, 2, 5],\n",
       "                         'n_estimators': array([ 60,  75,  90, 105])},\n",
       "             scoring='roc_auc', verbose=2)"
      ]
     },
     "execution_count": 17,
     "metadata": {},
     "output_type": "execute_result"
    }
   ],
   "source": [
    "rf_grid = GridSearchCV(estimator=rf_clf,\n",
    "                       param_grid = rf_param,refit=True,\n",
    "                       cv = cv, verbose=2, scoring='roc_auc')\n",
    "rf_grid.fit(X_train,y_train)"
   ]
  },
  {
   "cell_type": "code",
   "execution_count": 19,
   "id": "3030be6d-7438-40b5-ac3b-eb68d1a522ec",
   "metadata": {},
   "outputs": [],
   "source": [
    "optimal_rf = rf_grid.best_estimator_"
   ]
  },
  {
   "cell_type": "code",
   "execution_count": 80,
   "id": "7a67bc0e-d379-4847-b255-b914d034a025",
   "metadata": {},
   "outputs": [
    {
     "name": "stdout",
     "output_type": "stream",
     "text": [
      "The classification report for training is \n",
      "\n",
      "              precision    recall  f1-score   support\n",
      "\n",
      "           0       0.90      0.68      0.78    267427\n",
      "           1       0.74      0.93      0.83    267427\n",
      "\n",
      "    accuracy                           0.80    534854\n",
      "   macro avg       0.82      0.80      0.80    534854\n",
      "weighted avg       0.82      0.80      0.80    534854\n",
      " \n",
      "\n",
      "The classification report for testing is \n",
      "\n",
      "              precision    recall  f1-score   support\n",
      "\n",
      "           0       0.98      0.68      0.80     66972\n",
      "           1       0.28      0.90      0.43      9250\n",
      "\n",
      "    accuracy                           0.71     76222\n",
      "   macro avg       0.63      0.79      0.61     76222\n",
      "weighted avg       0.90      0.71      0.76     76222\n",
      " \n",
      "\n",
      "The scores are summed up in the dataframe below\n"
     ]
    },
    {
     "data": {
      "text/html": [
       "<div>\n",
       "<style scoped>\n",
       "    .dataframe tbody tr th:only-of-type {\n",
       "        vertical-align: middle;\n",
       "    }\n",
       "\n",
       "    .dataframe tbody tr th {\n",
       "        vertical-align: top;\n",
       "    }\n",
       "\n",
       "    .dataframe thead th {\n",
       "        text-align: right;\n",
       "    }\n",
       "</style>\n",
       "<table border=\"1\" class=\"dataframe\">\n",
       "  <thead>\n",
       "    <tr style=\"text-align: right;\">\n",
       "      <th></th>\n",
       "      <th>Train</th>\n",
       "      <th>Test</th>\n",
       "    </tr>\n",
       "  </thead>\n",
       "  <tbody>\n",
       "    <tr>\n",
       "      <th>Roc Auc</th>\n",
       "      <td>0.80</td>\n",
       "      <td>0.79</td>\n",
       "    </tr>\n",
       "    <tr>\n",
       "      <th>Accuracy</th>\n",
       "      <td>0.80</td>\n",
       "      <td>0.71</td>\n",
       "    </tr>\n",
       "    <tr>\n",
       "      <th>Recall</th>\n",
       "      <td>0.93</td>\n",
       "      <td>0.90</td>\n",
       "    </tr>\n",
       "    <tr>\n",
       "      <th>Precision</th>\n",
       "      <td>0.74</td>\n",
       "      <td>0.28</td>\n",
       "    </tr>\n",
       "    <tr>\n",
       "      <th>Log loss</th>\n",
       "      <td>6.78</td>\n",
       "      <td>10.16</td>\n",
       "    </tr>\n",
       "    <tr>\n",
       "      <th>F1 score</th>\n",
       "      <td>0.83</td>\n",
       "      <td>0.43</td>\n",
       "    </tr>\n",
       "  </tbody>\n",
       "</table>\n",
       "</div>"
      ],
      "text/plain": [
       "           Train   Test\n",
       "Roc Auc     0.80   0.79\n",
       "Accuracy    0.80   0.71\n",
       "Recall      0.93   0.90\n",
       "Precision   0.74   0.28\n",
       "Log loss    6.78  10.16\n",
       "F1 score    0.83   0.43"
      ]
     },
     "execution_count": 80,
     "metadata": {},
     "output_type": "execute_result"
    },
    {
     "data": {
      "image/png": "[encoded data removed]",
      "text/plain": [
       "<Figure size 1008x432 with 1 Axes>"
      ]
     },
     "metadata": {},
     "output_type": "display_data"
    }
   ],
   "source": [
    "get_metric(optimal_rf)"
   ]
  },
  {
   "cell_type": "markdown",
   "id": "c461ef5a-b93f-4c60-a9bd-d5b77538aee6",
   "metadata": {},
   "source": [
    "## Lgbm Classifier"
   ]
  },
  {
   "cell_type": "code",
   "execution_count": 30,
   "id": "fd209735-01ca-4f6e-9489-2e7a381bd494",
   "metadata": {},
   "outputs": [
    {
     "data": {
      "text/plain": [
       "LGBMClassifier()"
      ]
     },
     "execution_count": 30,
     "metadata": {},
     "output_type": "execute_result"
    }
   ],
   "source": [
    "lgbm_clf = lgb.LGBMClassifier()\n",
    "lgbm_clf.fit(X_train,y_train)"
   ]
  },
  {
   "cell_type": "code",
   "execution_count": 81,
   "id": "058d1bd7-c744-45e9-940d-7abf25d8f43c",
   "metadata": {},
   "outputs": [
    {
     "name": "stdout",
     "output_type": "stream",
     "text": [
      "The classification report for training is \n",
      "\n",
      "              precision    recall  f1-score   support\n",
      "\n",
      "           0       0.89      0.92      0.90    267427\n",
      "           1       0.91      0.89      0.90    267427\n",
      "\n",
      "    accuracy                           0.90    534854\n",
      "   macro avg       0.90      0.90      0.90    534854\n",
      "weighted avg       0.90      0.90      0.90    534854\n",
      " \n",
      "\n",
      "The classification report for testing is \n",
      "\n",
      "              precision    recall  f1-score   support\n",
      "\n",
      "           0       0.91      0.92      0.91     66972\n",
      "           1       0.37      0.35      0.36      9250\n",
      "\n",
      "    accuracy                           0.85     76222\n",
      "   macro avg       0.64      0.63      0.64     76222\n",
      "weighted avg       0.84      0.85      0.85     76222\n",
      " \n",
      "\n",
      "The scores are summed up in the dataframe below\n"
     ]
    },
    {
     "data": {
      "text/html": [
       "<div>\n",
       "<style scoped>\n",
       "    .dataframe tbody tr th:only-of-type {\n",
       "        vertical-align: middle;\n",
       "    }\n",
       "\n",
       "    .dataframe tbody tr th {\n",
       "        vertical-align: top;\n",
       "    }\n",
       "\n",
       "    .dataframe thead th {\n",
       "        text-align: right;\n",
       "    }\n",
       "</style>\n",
       "<table border=\"1\" class=\"dataframe\">\n",
       "  <thead>\n",
       "    <tr style=\"text-align: right;\">\n",
       "      <th></th>\n",
       "      <th>Train</th>\n",
       "      <th>Test</th>\n",
       "    </tr>\n",
       "  </thead>\n",
       "  <tbody>\n",
       "    <tr>\n",
       "      <th>Roc Auc</th>\n",
       "      <td>0.90</td>\n",
       "      <td>0.63</td>\n",
       "    </tr>\n",
       "    <tr>\n",
       "      <th>Accuracy</th>\n",
       "      <td>0.90</td>\n",
       "      <td>0.85</td>\n",
       "    </tr>\n",
       "    <tr>\n",
       "      <th>Recall</th>\n",
       "      <td>0.89</td>\n",
       "      <td>0.35</td>\n",
       "    </tr>\n",
       "    <tr>\n",
       "      <th>Precision</th>\n",
       "      <td>0.91</td>\n",
       "      <td>0.37</td>\n",
       "    </tr>\n",
       "    <tr>\n",
       "      <th>Log loss</th>\n",
       "      <td>3.40</td>\n",
       "      <td>5.26</td>\n",
       "    </tr>\n",
       "    <tr>\n",
       "      <th>F1 score</th>\n",
       "      <td>0.90</td>\n",
       "      <td>0.36</td>\n",
       "    </tr>\n",
       "  </tbody>\n",
       "</table>\n",
       "</div>"
      ],
      "text/plain": [
       "           Train  Test\n",
       "Roc Auc     0.90  0.63\n",
       "Accuracy    0.90  0.85\n",
       "Recall      0.89  0.35\n",
       "Precision   0.91  0.37\n",
       "Log loss    3.40  5.26\n",
       "F1 score    0.90  0.36"
      ]
     },
     "execution_count": 81,
     "metadata": {},
     "output_type": "execute_result"
    },
    {
     "data": {
      "image/png": "[encoded data removed]",
      "text/plain": [
       "<Figure size 1008x432 with 1 Axes>"
      ]
     },
     "metadata": {},
     "output_type": "display_data"
    }
   ],
   "source": [
    "get_metric(lgbm_clf)"
   ]
  },
  {
   "cell_type": "code",
   "execution_count": 32,
   "id": "5d6e3f81-4351-4e19-996b-90435fa76869",
   "metadata": {},
   "outputs": [],
   "source": [
    "lgbm_param =   {'num_leaves': [6, 8, 12, 16],\n",
    "                'n_estimators': [8, 16, 24],\n",
    "                'learning_rate': [0.01,0.05],\n",
    "                }"
   ]
  },
  {
   "cell_type": "code",
   "execution_count": 34,
   "id": "345ccd6f-2574-4cb8-a110-5a3e25ff0406",
   "metadata": {},
   "outputs": [],
   "source": [
    "lgbm_grid = GridSearchCV(estimator=lgbm_clf,\n",
    "                       param_grid = lgbm_param,refit=True,n_jobs=8,\n",
    "                       cv = cv, verbose=2, scoring='roc_auc')"
   ]
  },
  {
   "cell_type": "code",
   "execution_count": 36,
   "id": "04424bd9-0d3d-4f55-9259-5973a4eceb0b",
   "metadata": {},
   "outputs": [
    {
     "name": "stdout",
     "output_type": "stream",
     "text": [
      "Fitting 10 folds for each of 24 candidates, totalling 240 fits\n"
     ]
    },
    {
     "data": {
      "text/plain": [
       "GridSearchCV(cv=RepeatedStratifiedKFold(n_repeats=2, n_splits=5, random_state=None),\n",
       "             estimator=LGBMClassifier(), n_jobs=8,\n",
       "             param_grid={'learning_rate': [0.01, 0.05],\n",
       "                         'n_estimators': [8, 16, 24],\n",
       "                         'num_leaves': [6, 8, 12, 16]},\n",
       "             scoring='roc_auc', verbose=2)"
      ]
     },
     "execution_count": 36,
     "metadata": {},
     "output_type": "execute_result"
    }
   ],
   "source": [
    "lgbm_grid.fit(X_train,y_train)"
   ]
  },
  {
   "cell_type": "code",
   "execution_count": 38,
   "id": "8ae11222-a913-4c26-9ea9-6ee7d5090628",
   "metadata": {},
   "outputs": [],
   "source": [
    "optimal_lgbm = lgbm_grid.best_estimator_"
   ]
  },
  {
   "cell_type": "code",
   "execution_count": 82,
   "id": "ec30d600-9a9a-4dbc-84b4-231983ee9bca",
   "metadata": {},
   "outputs": [
    {
     "name": "stdout",
     "output_type": "stream",
     "text": [
      "The classification report for training is \n",
      "\n",
      "              precision    recall  f1-score   support\n",
      "\n",
      "           0       0.91      0.70      0.79    267427\n",
      "           1       0.76      0.93      0.84    267427\n",
      "\n",
      "    accuracy                           0.82    534854\n",
      "   macro avg       0.84      0.82      0.82    534854\n",
      "weighted avg       0.84      0.82      0.82    534854\n",
      " \n",
      "\n",
      "The classification report for testing is \n",
      "\n",
      "              precision    recall  f1-score   support\n",
      "\n",
      "           0       0.97      0.70      0.82     66972\n",
      "           1       0.28      0.85      0.42      9250\n",
      "\n",
      "    accuracy                           0.72     76222\n",
      "   macro avg       0.63      0.78      0.62     76222\n",
      "weighted avg       0.89      0.72      0.77     76222\n",
      " \n",
      "\n",
      "The scores are summed up in the dataframe below\n"
     ]
    },
    {
     "data": {
      "text/html": [
       "<div>\n",
       "<style scoped>\n",
       "    .dataframe tbody tr th:only-of-type {\n",
       "        vertical-align: middle;\n",
       "    }\n",
       "\n",
       "    .dataframe tbody tr th {\n",
       "        vertical-align: top;\n",
       "    }\n",
       "\n",
       "    .dataframe thead th {\n",
       "        text-align: right;\n",
       "    }\n",
       "</style>\n",
       "<table border=\"1\" class=\"dataframe\">\n",
       "  <thead>\n",
       "    <tr style=\"text-align: right;\">\n",
       "      <th></th>\n",
       "      <th>Train</th>\n",
       "      <th>Test</th>\n",
       "    </tr>\n",
       "  </thead>\n",
       "  <tbody>\n",
       "    <tr>\n",
       "      <th>Roc Auc</th>\n",
       "      <td>0.82</td>\n",
       "      <td>0.78</td>\n",
       "    </tr>\n",
       "    <tr>\n",
       "      <th>Accuracy</th>\n",
       "      <td>0.82</td>\n",
       "      <td>0.72</td>\n",
       "    </tr>\n",
       "    <tr>\n",
       "      <th>Recall</th>\n",
       "      <td>0.93</td>\n",
       "      <td>0.85</td>\n",
       "    </tr>\n",
       "    <tr>\n",
       "      <th>Precision</th>\n",
       "      <td>0.76</td>\n",
       "      <td>0.28</td>\n",
       "    </tr>\n",
       "    <tr>\n",
       "      <th>Log loss</th>\n",
       "      <td>6.29</td>\n",
       "      <td>9.65</td>\n",
       "    </tr>\n",
       "    <tr>\n",
       "      <th>F1 score</th>\n",
       "      <td>0.84</td>\n",
       "      <td>0.42</td>\n",
       "    </tr>\n",
       "  </tbody>\n",
       "</table>\n",
       "</div>"
      ],
      "text/plain": [
       "           Train  Test\n",
       "Roc Auc     0.82  0.78\n",
       "Accuracy    0.82  0.72\n",
       "Recall      0.93  0.85\n",
       "Precision   0.76  0.28\n",
       "Log loss    6.29  9.65\n",
       "F1 score    0.84  0.42"
      ]
     },
     "execution_count": 82,
     "metadata": {},
     "output_type": "execute_result"
    },
    {
     "data": {
      "image/png": "[encoded data removed]",
      "text/plain": [
       "<Figure size 1008x432 with 1 Axes>"
      ]
     },
     "metadata": {},
     "output_type": "display_data"
    }
   ],
   "source": [
    "get_metric(optimal_lgbm)"
   ]
  },
  {
   "cell_type": "markdown",
   "id": "cfac92c7-224c-421a-b188-a55685fcf0f4",
   "metadata": {},
   "source": [
    "## Neural network"
   ]
  },
  {
   "cell_type": "code",
   "execution_count": 52,
   "id": "4907b3f3-c563-49c7-af15-8d5763106671",
   "metadata": {},
   "outputs": [],
   "source": [
    "X_train_nn, X_val, y_train_nn, y_val = train_test_split(X_train,y_train,test_size=0.2,random_state=0)"
   ]
  },
  {
   "cell_type": "code",
   "execution_count": 53,
   "id": "62b5c527-dbdb-4724-ab0c-bbc3bf18f943",
   "metadata": {},
   "outputs": [],
   "source": [
    "Y_train_binary = y_train_nn.copy()\n",
    "Y_val_binary = y_val.copy()\n",
    "Y_test_binary = y_test.copy()\n",
    "\n",
    "Y_train_binary[Y_train_binary > 0] = 1\n",
    "Y_test_binary[Y_test_binary > 0] = 1\n"
   ]
  },
  {
   "cell_type": "code",
   "execution_count": 72,
   "id": "200c224d-df14-47e9-ad4b-0780ff659443",
   "metadata": {},
   "outputs": [],
   "source": [
    "input_size = 12\n",
    "output_size = 1\n",
    "hidden_size = 20\n",
    "model = tf.keras.Sequential([\n",
    "                             tf.keras.layers.Dense(hidden_size,'relu'),\n",
    "                             tf.keras.layers.Dropout(0.25),\n",
    "                             tf.keras.layers.Dense(hidden_size,'relu'),\n",
    "                             tf.keras.layers.Dropout(0.25),\n",
    "                             tf.keras.layers.Dense(output_size,'sigmoid')\n",
    "                            ])\n",
    "auc_met = tf.keras.metrics.AUC()\n",
    "adm = tf.keras.optimizers.Adam(learning_rate=0.001)\n",
    "model.compile(optimizer=adm,loss='binary_crossentropy',metrics=[auc_met])\n",
    "\n",
    "early_stopping = tf.keras.callbacks.EarlyStopping(patience = 2)"
   ]
  },
  {
   "cell_type": "code",
   "execution_count": 73,
   "id": "facd95e3-f412-4248-be84-aae6699d7068",
   "metadata": {},
   "outputs": [
    {
     "name": "stdout",
     "output_type": "stream",
     "text": [
      "Epoch 1/50\n",
      "8558/8558 - 14s - loss: 0.4458 - auc_3: 0.8333 - val_loss: 0.4263 - val_auc_3: 0.8490 - 14s/epoch - 2ms/step\n",
      "Epoch 2/50\n",
      "8558/8558 - 12s - loss: 0.4320 - auc_3: 0.8435 - val_loss: 0.4236 - val_auc_3: 0.8530 - 12s/epoch - 1ms/step\n",
      "Epoch 3/50\n",
      "8558/8558 - 12s - loss: 0.4304 - auc_3: 0.8463 - val_loss: 0.4230 - val_auc_3: 0.8534 - 12s/epoch - 1ms/step\n",
      "Epoch 4/50\n",
      "8558/8558 - 12s - loss: 0.4293 - auc_3: 0.8473 - val_loss: 0.4218 - val_auc_3: 0.8542 - 12s/epoch - 1ms/step\n",
      "Epoch 5/50\n",
      "8558/8558 - 12s - loss: 0.4287 - auc_3: 0.8483 - val_loss: 0.4219 - val_auc_3: 0.8538 - 12s/epoch - 1ms/step\n",
      "Epoch 6/50\n",
      "8558/8558 - 12s - loss: 0.4286 - auc_3: 0.8483 - val_loss: 0.4211 - val_auc_3: 0.8548 - 12s/epoch - 1ms/step\n",
      "Epoch 7/50\n",
      "8558/8558 - 12s - loss: 0.4281 - auc_3: 0.8492 - val_loss: 0.4220 - val_auc_3: 0.8551 - 12s/epoch - 1ms/step\n",
      "Epoch 8/50\n",
      "8558/8558 - 12s - loss: 0.4279 - auc_3: 0.8497 - val_loss: 0.4201 - val_auc_3: 0.8560 - 12s/epoch - 1ms/step\n",
      "Epoch 9/50\n",
      "8558/8558 - 12s - loss: 0.4276 - auc_3: 0.8498 - val_loss: 0.4222 - val_auc_3: 0.8552 - 12s/epoch - 1ms/step\n",
      "Epoch 10/50\n",
      "8558/8558 - 12s - loss: 0.4278 - auc_3: 0.8500 - val_loss: 0.4215 - val_auc_3: 0.8563 - 12s/epoch - 1ms/step\n"
     ]
    },
    {
     "data": {
      "text/plain": [
       "<keras.callbacks.History at 0x1e21b4fee50>"
      ]
     },
     "execution_count": 73,
     "metadata": {},
     "output_type": "execute_result"
    }
   ],
   "source": [
    "model.fit(X_train_nn, Y_train_binary, validation_data=(X_val,Y_val_binary),epochs=50, batch_size=50,verbose = 2,callbacks = [early_stopping])"
   ]
  },
  {
   "cell_type": "code",
   "execution_count": 84,
   "id": "8672f441-405a-4cc4-acff-7c79109ec08b",
   "metadata": {},
   "outputs": [
    {
     "data": {
      "text/plain": [
       "0.7953895633673451"
      ]
     },
     "execution_count": 84,
     "metadata": {},
     "output_type": "execute_result"
    }
   ],
   "source": [
    "roc_auc_score(y_test,np.round(model.predict(X_test)).astype(int))"
   ]
  },
  {
   "cell_type": "markdown",
   "id": "7faf7193-71e4-46e6-a344-6bbc295818e4",
   "metadata": {},
   "source": [
    "## VotingClassifier"
   ]
  },
  {
   "cell_type": "code",
   "execution_count": 91,
   "id": "482f06ad-d9c0-44d6-a400-842a0d1b719c",
   "metadata": {},
   "outputs": [],
   "source": [
    "vot_clf = VotingClassifier(estimators=[('rf', optimal_rf), ('lgbm', optimal_lgbm)], voting='soft')"
   ]
  },
  {
   "cell_type": "code",
   "execution_count": 92,
   "id": "c655605e-656f-488b-8ac1-6926c48ca837",
   "metadata": {},
   "outputs": [
    {
     "data": {
      "text/plain": [
       "VotingClassifier(estimators=[('rf',\n",
       "                              RandomForestClassifier(max_depth=5,\n",
       "                                                     min_samples_leaf=2,\n",
       "                                                     n_estimators=105,\n",
       "                                                     n_jobs=10)),\n",
       "                             ('lgbm',\n",
       "                              LGBMClassifier(learning_rate=0.05,\n",
       "                                             n_estimators=24, num_leaves=16))],\n",
       "                 voting='soft')"
      ]
     },
     "execution_count": 92,
     "metadata": {},
     "output_type": "execute_result"
    }
   ],
   "source": [
    "vot_clf.fit(X_train,y_train)"
   ]
  },
  {
   "cell_type": "code",
   "execution_count": 93,
   "id": "1851fe46-6c67-445b-a24c-204b73a38299",
   "metadata": {},
   "outputs": [
    {
     "name": "stdout",
     "output_type": "stream",
     "text": [
      "The classification report for training is \n",
      "\n",
      "              precision    recall  f1-score   support\n",
      "\n",
      "           0       0.93      0.67      0.78    267427\n",
      "           1       0.74      0.95      0.83    267427\n",
      "\n",
      "    accuracy                           0.81    534854\n",
      "   macro avg       0.84      0.81      0.81    534854\n",
      "weighted avg       0.84      0.81      0.81    534854\n",
      " \n",
      "\n",
      "The classification report for testing is \n",
      "\n",
      "              precision    recall  f1-score   support\n",
      "\n",
      "           0       0.98      0.67      0.80     66972\n",
      "           1       0.28      0.92      0.43      9250\n",
      "\n",
      "    accuracy                           0.70     76222\n",
      "   macro avg       0.63      0.79      0.61     76222\n",
      "weighted avg       0.90      0.70      0.75     76222\n",
      " \n",
      "\n",
      "The scores are summed up in the dataframe below\n"
     ]
    },
    {
     "data": {
      "text/html": [
       "<div>\n",
       "<style scoped>\n",
       "    .dataframe tbody tr th:only-of-type {\n",
       "        vertical-align: middle;\n",
       "    }\n",
       "\n",
       "    .dataframe tbody tr th {\n",
       "        vertical-align: top;\n",
       "    }\n",
       "\n",
       "    .dataframe thead th {\n",
       "        text-align: right;\n",
       "    }\n",
       "</style>\n",
       "<table border=\"1\" class=\"dataframe\">\n",
       "  <thead>\n",
       "    <tr style=\"text-align: right;\">\n",
       "      <th></th>\n",
       "      <th>Train</th>\n",
       "      <th>Test</th>\n",
       "    </tr>\n",
       "  </thead>\n",
       "  <tbody>\n",
       "    <tr>\n",
       "      <th>Roc Auc</th>\n",
       "      <td>0.81</td>\n",
       "      <td>0.79</td>\n",
       "    </tr>\n",
       "    <tr>\n",
       "      <th>Accuracy</th>\n",
       "      <td>0.81</td>\n",
       "      <td>0.70</td>\n",
       "    </tr>\n",
       "    <tr>\n",
       "      <th>Recall</th>\n",
       "      <td>0.95</td>\n",
       "      <td>0.92</td>\n",
       "    </tr>\n",
       "    <tr>\n",
       "      <th>Precision</th>\n",
       "      <td>0.74</td>\n",
       "      <td>0.28</td>\n",
       "    </tr>\n",
       "    <tr>\n",
       "      <th>Log loss</th>\n",
       "      <td>6.57</td>\n",
       "      <td>10.38</td>\n",
       "    </tr>\n",
       "    <tr>\n",
       "      <th>F1 score</th>\n",
       "      <td>0.83</td>\n",
       "      <td>0.43</td>\n",
       "    </tr>\n",
       "  </tbody>\n",
       "</table>\n",
       "</div>"
      ],
      "text/plain": [
       "           Train   Test\n",
       "Roc Auc     0.81   0.79\n",
       "Accuracy    0.81   0.70\n",
       "Recall      0.95   0.92\n",
       "Precision   0.74   0.28\n",
       "Log loss    6.57  10.38\n",
       "F1 score    0.83   0.43"
      ]
     },
     "execution_count": 93,
     "metadata": {},
     "output_type": "execute_result"
    },
    {
     "data": {
      "image/png": "[encoded data removed]",
      "text/plain": [
       "<Figure size 1008x432 with 1 Axes>"
      ]
     },
     "metadata": {},
     "output_type": "display_data"
    }
   ],
   "source": [
    "get_metric(vot_clf)"
   ]
  },
  {
   "cell_type": "code",
   "execution_count": 94,
   "id": "30448003-67ba-46b6-b421-4f18cde25dab",
   "metadata": {},
   "outputs": [],
   "source": [
    "import pickle"
   ]
  },
  {
   "cell_type": "code",
   "execution_count": 95,
   "id": "2afe8b89-2247-4582-9b2b-74d10cf2c89c",
   "metadata": {},
   "outputs": [],
   "source": [
    "pickle.dump(optimal_rf,open('rf.pkl','wb'))"
   ]
  },
  {
   "cell_type": "code",
   "execution_count": 96,
   "id": "546e4d88-3cc8-48d4-8502-d5c41e2bbd6e",
   "metadata": {},
   "outputs": [],
   "source": [
    "pickle.dump(optimal_lgbm,open('lgbm.pkl','wb'))"
   ]
  },
  {
   "cell_type": "code",
   "execution_count": 97,
   "id": "f1297550-036e-438e-b956-9e5efddd8b14",
   "metadata": {},
   "outputs": [],
   "source": [
    "pickle.dump(vot_clf,open('vote_clf.pkl','wb'))"
   ]
  }
 ],
 "metadata": {
  "kernelspec": {
   "display_name": "Python 3 (ipykernel)",
   "language": "python",
   "name": "python3"
  },
  "language_info": {
   "codemirror_mode": {
    "name": "ipython",
    "version": 3
   },
   "file_extension": ".py",
   "mimetype": "text/x-python",
   "name": "python",
   "nbconvert_exporter": "python",
   "pygments_lexer": "ipython3",
   "version": "3.8.12"
  }
 },
 "nbformat": 4,
 "nbformat_minor": 5
}
