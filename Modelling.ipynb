{
 "cells": [
  {
   "cell_type": "code",
   "execution_count": 1,
   "id": "bc5dee85-e4b4-4fb9-9268-97ba6c9d56c0",
   "metadata": {},
   "outputs": [],
   "source": [
    "import pandas as pd\n",
    "import numpy as np\n",
    "import matplotlib.pyplot as plt\n",
    "import seaborn as sns\n",
    "from sklearn.model_selection import train_test_split\n",
    "from keras.utils.np_utils import to_categorical \n",
    "from sklearn.ensemble import RandomForestClassifier\n",
    "from sklearn.svm import SVC\n",
    "from sklearn.model_selection import RepeatedStratifiedKFold\n",
    "from sklearn.model_selection import GridSearchCV,RandomizedSearchCV\n",
    "from sklearn.metrics import accuracy_score, confusion_matrix,recall_score,precision_score,log_loss,f1_score,roc_auc_score,classification_report\n",
    "from warnings import filterwarnings\n",
    "import lightgbm as lgb\n",
    "import tensorflow as tf\n",
    "filterwarnings(\"ignore\")\n",
    "plt.style.use('ggplot')"
   ]
  },
  {
   "cell_type": "code",
   "execution_count": 2,
   "id": "6b0fcb00-a082-4552-a375-54d1c7b5aa55",
   "metadata": {},
   "outputs": [],
   "source": [
    "X_train = pd.read_csv(\"X_train.csv\")\n",
    "X_test = pd.read_csv(\"X_test.csv\")\n",
    "y_train = pd.read_csv(\"y_train.csv\")\n",
    "y_test = pd.read_csv(\"y_test.csv\")"
   ]
  },
  {
   "cell_type": "code",
   "execution_count": 3,
   "id": "d082db69-f394-4cc8-b1d5-f829cabeaabd",
   "metadata": {},
   "outputs": [],
   "source": [
    "X_train = X_train.drop('Unnamed: 0',axis=1).values\n",
    "X_test = X_test.drop('Unnamed: 0',axis=1).values\n",
    "y_train = y_train.drop('Unnamed: 0',axis=1).values.reshape(-1,1)\n",
    "y_test = y_test.drop('Unnamed: 0',axis=1).values.reshape(-1,1)"
   ]
  },
  {
   "cell_type": "code",
   "execution_count": 4,
   "id": "a0aa3140-498f-4d8c-ab7b-5096c7fe995e",
   "metadata": {},
   "outputs": [],
   "source": [
    "rf_clf = RandomForestClassifier(n_jobs=10)"
   ]
  },
  {
   "cell_type": "code",
   "execution_count": 5,
   "id": "fc542aca-f2d3-4fcb-963f-6daebed8ebf3",
   "metadata": {},
   "outputs": [
    {
     "data": {
      "text/plain": [
       "RandomForestClassifier(n_jobs=10)"
      ]
     },
     "execution_count": 5,
     "metadata": {},
     "output_type": "execute_result"
    }
   ],
   "source": [
    "rf_clf.fit(X_train,y_train)"
   ]
  },
  {
   "cell_type": "code",
   "execution_count": 6,
   "id": "d92aa2e3-cbd8-4ca9-99b6-27b102d2d054",
   "metadata": {},
   "outputs": [],
   "source": [
    "pred_train = rf_clf.predict(X_train)\n",
    "pred_test = rf_clf.predict(X_test)"
   ]
  },
  {
   "cell_type": "code",
   "execution_count": 4,
   "id": "039e3878-94f0-453f-a60e-daa012d7e8cd",
   "metadata": {},
   "outputs": [],
   "source": [
    "cv = RepeatedStratifiedKFold(n_splits=5,n_repeats=2)"
   ]
  },
  {
   "cell_type": "code",
   "execution_count": 10,
   "id": "e13df6df-275e-405c-a49a-9c2d05a5b786",
   "metadata": {},
   "outputs": [],
   "source": [
    "rf_param = {'n_estimators' : np.arange(60,120,15),\n",
    "            'max_depth' : [1, 2, 3, 4, 5],\n",
    "            'min_samples_leaf' : [1,2,5]\n",
    "           }"
   ]
  },
  {
   "cell_type": "code",
   "execution_count": 11,
   "id": "72921590-8c05-4d02-bdcb-dc2b1a63e2f9",
   "metadata": {},
   "outputs": [],
   "source": [
    "rf_grid = GridSearchCV(estimator=rf_clf,\n",
    "                       param_grid = rf_param,refit=True,\n",
    "                       cv = cv, verbose=2, scoring='roc_auc')"
   ]
  },
  {
   "cell_type": "code",
   "execution_count": 12,
   "id": "e3ee3dcd-9299-4cd0-8524-7eb793053962",
   "metadata": {},
   "outputs": [
    {
     "name": "stdout",
     "output_type": "stream",
     "text": [
      "Fitting 10 folds for each of 60 candidates, totalling 600 fits\n",
      "[CV] END ...max_depth=1, min_samples_leaf=1, n_estimators=60; total time=   5.8s\n",
      "[CV] END ...max_depth=1, min_samples_leaf=1, n_estimators=60; total time=   4.0s\n",
      "[CV] END ...max_depth=1, min_samples_leaf=1, n_estimators=60; total time=   4.1s\n",
      "[CV] END ...max_depth=1, min_samples_leaf=1, n_estimators=60; total time=   4.1s\n",
      "[CV] END ...max_depth=1, min_samples_leaf=1, n_estimators=60; total time=   3.7s\n",
      "[CV] END ...max_depth=1, min_samples_leaf=1, n_estimators=60; total time=   3.2s\n",
      "[CV] END ...max_depth=1, min_samples_leaf=1, n_estimators=60; total time=   3.6s\n",
      "[CV] END ...max_depth=1, min_samples_leaf=1, n_estimators=60; total time=   3.2s\n",
      "[CV] END ...max_depth=1, min_samples_leaf=1, n_estimators=60; total time=   3.4s\n",
      "[CV] END ...max_depth=1, min_samples_leaf=1, n_estimators=60; total time=   3.2s\n",
      "[CV] END ...max_depth=1, min_samples_leaf=1, n_estimators=75; total time=   3.9s\n",
      "[CV] END ...max_depth=1, min_samples_leaf=1, n_estimators=75; total time=   4.1s\n",
      "[CV] END ...max_depth=1, min_samples_leaf=1, n_estimators=75; total time=   4.1s\n",
      "[CV] END ...max_depth=1, min_samples_leaf=1, n_estimators=75; total time=   4.0s\n",
      "[CV] END ...max_depth=1, min_samples_leaf=1, n_estimators=75; total time=   4.1s\n",
      "[CV] END ...max_depth=1, min_samples_leaf=1, n_estimators=75; total time=   4.2s\n",
      "[CV] END ...max_depth=1, min_samples_leaf=1, n_estimators=75; total time=   4.1s\n",
      "[CV] END ...max_depth=1, min_samples_leaf=1, n_estimators=75; total time=   4.0s\n",
      "[CV] END ...max_depth=1, min_samples_leaf=1, n_estimators=75; total time=   4.0s\n",
      "[CV] END ...max_depth=1, min_samples_leaf=1, n_estimators=75; total time=   4.6s\n",
      "[CV] END ...max_depth=1, min_samples_leaf=1, n_estimators=90; total time=   6.1s\n",
      "[CV] END ...max_depth=1, min_samples_leaf=1, n_estimators=90; total time=   5.8s\n",
      "[CV] END ...max_depth=1, min_samples_leaf=1, n_estimators=90; total time=   5.9s\n",
      "[CV] END ...max_depth=1, min_samples_leaf=1, n_estimators=90; total time=   5.7s\n",
      "[CV] END ...max_depth=1, min_samples_leaf=1, n_estimators=90; total time=   5.8s\n",
      "[CV] END ...max_depth=1, min_samples_leaf=1, n_estimators=90; total time=   6.0s\n",
      "[CV] END ...max_depth=1, min_samples_leaf=1, n_estimators=90; total time=   5.8s\n",
      "[CV] END ...max_depth=1, min_samples_leaf=1, n_estimators=90; total time=   5.8s\n",
      "[CV] END ...max_depth=1, min_samples_leaf=1, n_estimators=90; total time=   5.6s\n",
      "[CV] END ...max_depth=1, min_samples_leaf=1, n_estimators=90; total time=   5.7s\n",
      "[CV] END ..max_depth=1, min_samples_leaf=1, n_estimators=105; total time=   6.9s\n",
      "[CV] END ..max_depth=1, min_samples_leaf=1, n_estimators=105; total time=   6.8s\n",
      "[CV] END ..max_depth=1, min_samples_leaf=1, n_estimators=105; total time=   6.7s\n",
      "[CV] END ..max_depth=1, min_samples_leaf=1, n_estimators=105; total time=   6.8s\n",
      "[CV] END ..max_depth=1, min_samples_leaf=1, n_estimators=105; total time=   7.5s\n",
      "[CV] END ..max_depth=1, min_samples_leaf=1, n_estimators=105; total time=   7.2s\n",
      "[CV] END ..max_depth=1, min_samples_leaf=1, n_estimators=105; total time=   7.1s\n",
      "[CV] END ..max_depth=1, min_samples_leaf=1, n_estimators=105; total time=   6.8s\n",
      "[CV] END ..max_depth=1, min_samples_leaf=1, n_estimators=105; total time=   6.6s\n",
      "[CV] END ..max_depth=1, min_samples_leaf=1, n_estimators=105; total time=   7.8s\n",
      "[CV] END ...max_depth=1, min_samples_leaf=2, n_estimators=60; total time=   4.0s\n",
      "[CV] END ...max_depth=1, min_samples_leaf=2, n_estimators=60; total time=   4.6s\n",
      "[CV] END ...max_depth=1, min_samples_leaf=2, n_estimators=60; total time=   3.7s\n",
      "[CV] END ...max_depth=1, min_samples_leaf=2, n_estimators=60; total time=   4.4s\n",
      "[CV] END ...max_depth=1, min_samples_leaf=2, n_estimators=60; total time=   3.9s\n",
      "[CV] END ...max_depth=1, min_samples_leaf=2, n_estimators=60; total time=   3.6s\n",
      "[CV] END ...max_depth=1, min_samples_leaf=2, n_estimators=60; total time=   3.9s\n",
      "[CV] END ...max_depth=1, min_samples_leaf=2, n_estimators=60; total time=   4.2s\n",
      "[CV] END ...max_depth=1, min_samples_leaf=2, n_estimators=60; total time=   4.1s\n",
      "[CV] END ...max_depth=1, min_samples_leaf=2, n_estimators=60; total time=   4.0s\n",
      "[CV] END ...max_depth=1, min_samples_leaf=2, n_estimators=75; total time=   5.2s\n",
      "[CV] END ...max_depth=1, min_samples_leaf=2, n_estimators=75; total time=   4.8s\n",
      "[CV] END ...max_depth=1, min_samples_leaf=2, n_estimators=75; total time=   6.5s\n",
      "[CV] END ...max_depth=1, min_samples_leaf=2, n_estimators=75; total time=   5.6s\n",
      "[CV] END ...max_depth=1, min_samples_leaf=2, n_estimators=75; total time=   5.3s\n",
      "[CV] END ...max_depth=1, min_samples_leaf=2, n_estimators=75; total time=   5.1s\n",
      "[CV] END ...max_depth=1, min_samples_leaf=2, n_estimators=75; total time=   5.2s\n",
      "[CV] END ...max_depth=1, min_samples_leaf=2, n_estimators=75; total time=   4.8s\n",
      "[CV] END ...max_depth=1, min_samples_leaf=2, n_estimators=75; total time=   4.7s\n",
      "[CV] END ...max_depth=1, min_samples_leaf=2, n_estimators=75; total time=   4.7s\n",
      "[CV] END ...max_depth=1, min_samples_leaf=2, n_estimators=90; total time=   5.7s\n",
      "[CV] END ...max_depth=1, min_samples_leaf=2, n_estimators=90; total time=   5.7s\n",
      "[CV] END ...max_depth=1, min_samples_leaf=2, n_estimators=90; total time=   5.7s\n",
      "[CV] END ...max_depth=1, min_samples_leaf=2, n_estimators=90; total time=   5.7s\n",
      "[CV] END ...max_depth=1, min_samples_leaf=2, n_estimators=90; total time=   5.7s\n",
      "[CV] END ...max_depth=1, min_samples_leaf=2, n_estimators=90; total time=   5.8s\n",
      "[CV] END ...max_depth=1, min_samples_leaf=2, n_estimators=90; total time=   5.5s\n",
      "[CV] END ...max_depth=1, min_samples_leaf=2, n_estimators=90; total time=   6.0s\n",
      "[CV] END ...max_depth=1, min_samples_leaf=2, n_estimators=90; total time=   5.8s\n",
      "[CV] END ...max_depth=1, min_samples_leaf=2, n_estimators=90; total time=   5.6s\n",
      "[CV] END ..max_depth=1, min_samples_leaf=2, n_estimators=105; total time=   6.3s\n",
      "[CV] END ..max_depth=1, min_samples_leaf=2, n_estimators=105; total time=   6.5s\n",
      "[CV] END ..max_depth=1, min_samples_leaf=2, n_estimators=105; total time=   7.0s\n",
      "[CV] END ..max_depth=1, min_samples_leaf=2, n_estimators=105; total time=   6.7s\n",
      "[CV] END ..max_depth=1, min_samples_leaf=2, n_estimators=105; total time=   6.5s\n",
      "[CV] END ..max_depth=1, min_samples_leaf=2, n_estimators=105; total time=   6.5s\n",
      "[CV] END ..max_depth=1, min_samples_leaf=2, n_estimators=105; total time=   7.4s\n",
      "[CV] END ..max_depth=1, min_samples_leaf=2, n_estimators=105; total time=   8.9s\n",
      "[CV] END ..max_depth=1, min_samples_leaf=2, n_estimators=105; total time=   7.8s\n",
      "[CV] END ..max_depth=1, min_samples_leaf=2, n_estimators=105; total time=   6.8s\n",
      "[CV] END ...max_depth=1, min_samples_leaf=5, n_estimators=60; total time=   3.9s\n",
      "[CV] END ...max_depth=1, min_samples_leaf=5, n_estimators=60; total time=   3.7s\n",
      "[CV] END ...max_depth=1, min_samples_leaf=5, n_estimators=60; total time=   3.8s\n",
      "[CV] END ...max_depth=1, min_samples_leaf=5, n_estimators=60; total time=   3.9s\n",
      "[CV] END ...max_depth=1, min_samples_leaf=5, n_estimators=60; total time=   3.9s\n",
      "[CV] END ...max_depth=1, min_samples_leaf=5, n_estimators=60; total time=   3.8s\n",
      "[CV] END ...max_depth=1, min_samples_leaf=5, n_estimators=60; total time=   3.8s\n",
      "[CV] END ...max_depth=1, min_samples_leaf=5, n_estimators=60; total time=   3.9s\n",
      "[CV] END ...max_depth=1, min_samples_leaf=5, n_estimators=60; total time=   4.0s\n",
      "[CV] END ...max_depth=1, min_samples_leaf=5, n_estimators=60; total time=   3.8s\n",
      "[CV] END ...max_depth=1, min_samples_leaf=5, n_estimators=75; total time=   5.0s\n",
      "[CV] END ...max_depth=1, min_samples_leaf=5, n_estimators=75; total time=   5.7s\n",
      "[CV] END ...max_depth=1, min_samples_leaf=5, n_estimators=75; total time=   5.6s\n",
      "[CV] END ...max_depth=1, min_samples_leaf=5, n_estimators=75; total time=   5.2s\n",
      "[CV] END ...max_depth=1, min_samples_leaf=5, n_estimators=75; total time=   4.8s\n",
      "[CV] END ...max_depth=1, min_samples_leaf=5, n_estimators=75; total time=   4.9s\n",
      "[CV] END ...max_depth=1, min_samples_leaf=5, n_estimators=75; total time=   4.8s\n",
      "[CV] END ...max_depth=1, min_samples_leaf=5, n_estimators=75; total time=   4.9s\n",
      "[CV] END ...max_depth=1, min_samples_leaf=5, n_estimators=75; total time=   4.6s\n",
      "[CV] END ...max_depth=1, min_samples_leaf=5, n_estimators=75; total time=   4.6s\n",
      "[CV] END ...max_depth=1, min_samples_leaf=5, n_estimators=90; total time=   5.7s\n",
      "[CV] END ...max_depth=1, min_samples_leaf=5, n_estimators=90; total time=   5.7s\n",
      "[CV] END ...max_depth=1, min_samples_leaf=5, n_estimators=90; total time=   5.6s\n",
      "[CV] END ...max_depth=1, min_samples_leaf=5, n_estimators=90; total time=   5.6s\n",
      "[CV] END ...max_depth=1, min_samples_leaf=5, n_estimators=90; total time=   5.8s\n",
      "[CV] END ...max_depth=1, min_samples_leaf=5, n_estimators=90; total time=   5.7s\n",
      "[CV] END ...max_depth=1, min_samples_leaf=5, n_estimators=90; total time=   5.6s\n",
      "[CV] END ...max_depth=1, min_samples_leaf=5, n_estimators=90; total time=   5.7s\n",
      "[CV] END ...max_depth=1, min_samples_leaf=5, n_estimators=90; total time=   5.8s\n",
      "[CV] END ...max_depth=1, min_samples_leaf=5, n_estimators=90; total time=   5.6s\n",
      "[CV] END ..max_depth=1, min_samples_leaf=5, n_estimators=105; total time=   6.7s\n",
      "[CV] END ..max_depth=1, min_samples_leaf=5, n_estimators=105; total time=   6.6s\n",
      "[CV] END ..max_depth=1, min_samples_leaf=5, n_estimators=105; total time=   6.7s\n",
      "[CV] END ..max_depth=1, min_samples_leaf=5, n_estimators=105; total time=   6.8s\n",
      "[CV] END ..max_depth=1, min_samples_leaf=5, n_estimators=105; total time=   6.5s\n",
      "[CV] END ..max_depth=1, min_samples_leaf=5, n_estimators=105; total time=   6.6s\n",
      "[CV] END ..max_depth=1, min_samples_leaf=5, n_estimators=105; total time=   6.5s\n",
      "[CV] END ..max_depth=1, min_samples_leaf=5, n_estimators=105; total time=   7.4s\n",
      "[CV] END ..max_depth=1, min_samples_leaf=5, n_estimators=105; total time=   6.9s\n",
      "[CV] END ..max_depth=1, min_samples_leaf=5, n_estimators=105; total time=   6.3s\n",
      "[CV] END ...max_depth=2, min_samples_leaf=1, n_estimators=60; total time=   5.5s\n",
      "[CV] END ...max_depth=2, min_samples_leaf=1, n_estimators=60; total time=   5.5s\n",
      "[CV] END ...max_depth=2, min_samples_leaf=1, n_estimators=60; total time=   5.4s\n",
      "[CV] END ...max_depth=2, min_samples_leaf=1, n_estimators=60; total time=   5.7s\n",
      "[CV] END ...max_depth=2, min_samples_leaf=1, n_estimators=60; total time=   5.4s\n",
      "[CV] END ...max_depth=2, min_samples_leaf=1, n_estimators=60; total time=   5.4s\n",
      "[CV] END ...max_depth=2, min_samples_leaf=1, n_estimators=60; total time=   5.8s\n",
      "[CV] END ...max_depth=2, min_samples_leaf=1, n_estimators=60; total time=   5.5s\n",
      "[CV] END ...max_depth=2, min_samples_leaf=1, n_estimators=60; total time=   5.3s\n",
      "[CV] END ...max_depth=2, min_samples_leaf=1, n_estimators=60; total time=   5.8s\n",
      "[CV] END ...max_depth=2, min_samples_leaf=1, n_estimators=75; total time=   6.7s\n",
      "[CV] END ...max_depth=2, min_samples_leaf=1, n_estimators=75; total time=   7.2s\n",
      "[CV] END ...max_depth=2, min_samples_leaf=1, n_estimators=75; total time=   6.7s\n",
      "[CV] END ...max_depth=2, min_samples_leaf=1, n_estimators=75; total time=   6.9s\n",
      "[CV] END ...max_depth=2, min_samples_leaf=1, n_estimators=75; total time=   6.8s\n",
      "[CV] END ...max_depth=2, min_samples_leaf=1, n_estimators=75; total time=   6.9s\n",
      "[CV] END ...max_depth=2, min_samples_leaf=1, n_estimators=75; total time=   6.9s\n",
      "[CV] END ...max_depth=2, min_samples_leaf=1, n_estimators=75; total time=   7.4s\n",
      "[CV] END ...max_depth=2, min_samples_leaf=1, n_estimators=75; total time=   8.1s\n",
      "[CV] END ...max_depth=2, min_samples_leaf=1, n_estimators=75; total time=   7.2s\n",
      "[CV] END ...max_depth=2, min_samples_leaf=1, n_estimators=90; total time=   8.4s\n",
      "[CV] END ...max_depth=2, min_samples_leaf=1, n_estimators=90; total time=   7.3s\n",
      "[CV] END ...max_depth=2, min_samples_leaf=1, n_estimators=90; total time=   9.5s\n",
      "[CV] END ...max_depth=2, min_samples_leaf=1, n_estimators=90; total time=   8.3s\n",
      "[CV] END ...max_depth=2, min_samples_leaf=1, n_estimators=90; total time=   7.8s\n",
      "[CV] END ...max_depth=2, min_samples_leaf=1, n_estimators=90; total time=   7.4s\n",
      "[CV] END ...max_depth=2, min_samples_leaf=1, n_estimators=90; total time=   9.3s\n",
      "[CV] END ...max_depth=2, min_samples_leaf=1, n_estimators=90; total time=   8.6s\n",
      "[CV] END ...max_depth=2, min_samples_leaf=1, n_estimators=90; total time=   8.6s\n",
      "[CV] END ...max_depth=2, min_samples_leaf=1, n_estimators=90; total time=   8.3s\n",
      "[CV] END ..max_depth=2, min_samples_leaf=1, n_estimators=105; total time=  10.2s\n",
      "[CV] END ..max_depth=2, min_samples_leaf=1, n_estimators=105; total time=   9.4s\n",
      "[CV] END ..max_depth=2, min_samples_leaf=1, n_estimators=105; total time=   9.8s\n",
      "[CV] END ..max_depth=2, min_samples_leaf=1, n_estimators=105; total time=   9.0s\n",
      "[CV] END ..max_depth=2, min_samples_leaf=1, n_estimators=105; total time=  11.5s\n",
      "[CV] END ..max_depth=2, min_samples_leaf=1, n_estimators=105; total time=  10.3s\n",
      "[CV] END ..max_depth=2, min_samples_leaf=1, n_estimators=105; total time=   9.8s\n",
      "[CV] END ..max_depth=2, min_samples_leaf=1, n_estimators=105; total time=  10.6s\n",
      "[CV] END ..max_depth=2, min_samples_leaf=1, n_estimators=105; total time=  12.0s\n",
      "[CV] END ..max_depth=2, min_samples_leaf=1, n_estimators=105; total time=  11.4s\n",
      "[CV] END ...max_depth=2, min_samples_leaf=2, n_estimators=60; total time=   5.4s\n",
      "[CV] END ...max_depth=2, min_samples_leaf=2, n_estimators=60; total time=   5.2s\n",
      "[CV] END ...max_depth=2, min_samples_leaf=2, n_estimators=60; total time=   6.1s\n",
      "[CV] END ...max_depth=2, min_samples_leaf=2, n_estimators=60; total time=   5.7s\n",
      "[CV] END ...max_depth=2, min_samples_leaf=2, n_estimators=60; total time=   5.8s\n",
      "[CV] END ...max_depth=2, min_samples_leaf=2, n_estimators=60; total time=   5.6s\n",
      "[CV] END ...max_depth=2, min_samples_leaf=2, n_estimators=60; total time=   5.8s\n",
      "[CV] END ...max_depth=2, min_samples_leaf=2, n_estimators=60; total time=   5.7s\n",
      "[CV] END ...max_depth=2, min_samples_leaf=2, n_estimators=60; total time=   7.0s\n",
      "[CV] END ...max_depth=2, min_samples_leaf=2, n_estimators=60; total time=   5.7s\n",
      "[CV] END ...max_depth=2, min_samples_leaf=2, n_estimators=75; total time=   6.9s\n",
      "[CV] END ...max_depth=2, min_samples_leaf=2, n_estimators=75; total time=   7.3s\n",
      "[CV] END ...max_depth=2, min_samples_leaf=2, n_estimators=75; total time=   7.2s\n",
      "[CV] END ...max_depth=2, min_samples_leaf=2, n_estimators=75; total time=   7.4s\n",
      "[CV] END ...max_depth=2, min_samples_leaf=2, n_estimators=75; total time=   6.9s\n",
      "[CV] END ...max_depth=2, min_samples_leaf=2, n_estimators=75; total time=   6.8s\n",
      "[CV] END ...max_depth=2, min_samples_leaf=2, n_estimators=75; total time=   7.1s\n",
      "[CV] END ...max_depth=2, min_samples_leaf=2, n_estimators=75; total time=   6.9s\n",
      "[CV] END ...max_depth=2, min_samples_leaf=2, n_estimators=75; total time=   7.6s\n",
      "[CV] END ...max_depth=2, min_samples_leaf=2, n_estimators=75; total time=   6.9s\n",
      "[CV] END ...max_depth=2, min_samples_leaf=2, n_estimators=90; total time=   9.1s\n",
      "[CV] END ...max_depth=2, min_samples_leaf=2, n_estimators=90; total time=   8.7s\n",
      "[CV] END ...max_depth=2, min_samples_leaf=2, n_estimators=90; total time=   8.3s\n",
      "[CV] END ...max_depth=2, min_samples_leaf=2, n_estimators=90; total time=   8.0s\n",
      "[CV] END ...max_depth=2, min_samples_leaf=2, n_estimators=90; total time=   9.2s\n",
      "[CV] END ...max_depth=2, min_samples_leaf=2, n_estimators=90; total time=   8.1s\n",
      "[CV] END ...max_depth=2, min_samples_leaf=2, n_estimators=90; total time=   7.9s\n",
      "[CV] END ...max_depth=2, min_samples_leaf=2, n_estimators=90; total time=   8.2s\n",
      "[CV] END ...max_depth=2, min_samples_leaf=2, n_estimators=90; total time=   8.0s\n",
      "[CV] END ...max_depth=2, min_samples_leaf=2, n_estimators=90; total time=   8.4s\n",
      "[CV] END ..max_depth=2, min_samples_leaf=2, n_estimators=105; total time=   9.9s\n",
      "[CV] END ..max_depth=2, min_samples_leaf=2, n_estimators=105; total time=   9.8s\n",
      "[CV] END ..max_depth=2, min_samples_leaf=2, n_estimators=105; total time=   9.5s\n",
      "[CV] END ..max_depth=2, min_samples_leaf=2, n_estimators=105; total time=  10.2s\n",
      "[CV] END ..max_depth=2, min_samples_leaf=2, n_estimators=105; total time=  11.6s\n",
      "[CV] END ..max_depth=2, min_samples_leaf=2, n_estimators=105; total time=  11.3s\n",
      "[CV] END ..max_depth=2, min_samples_leaf=2, n_estimators=105; total time=  10.9s\n",
      "[CV] END ..max_depth=2, min_samples_leaf=2, n_estimators=105; total time=  10.6s\n",
      "[CV] END ..max_depth=2, min_samples_leaf=2, n_estimators=105; total time=   9.3s\n",
      "[CV] END ..max_depth=2, min_samples_leaf=2, n_estimators=105; total time=  11.3s\n",
      "[CV] END ...max_depth=2, min_samples_leaf=5, n_estimators=60; total time=   6.1s\n",
      "[CV] END ...max_depth=2, min_samples_leaf=5, n_estimators=60; total time=   6.0s\n",
      "[CV] END ...max_depth=2, min_samples_leaf=5, n_estimators=60; total time=   5.8s\n",
      "[CV] END ...max_depth=2, min_samples_leaf=5, n_estimators=60; total time=   7.6s\n",
      "[CV] END ...max_depth=2, min_samples_leaf=5, n_estimators=60; total time=   6.1s\n",
      "[CV] END ...max_depth=2, min_samples_leaf=5, n_estimators=60; total time=   6.8s\n",
      "[CV] END ...max_depth=2, min_samples_leaf=5, n_estimators=60; total time=   5.8s\n",
      "[CV] END ...max_depth=2, min_samples_leaf=5, n_estimators=60; total time=   6.0s\n",
      "[CV] END ...max_depth=2, min_samples_leaf=5, n_estimators=60; total time=   6.1s\n",
      "[CV] END ...max_depth=2, min_samples_leaf=5, n_estimators=60; total time=   5.9s\n",
      "[CV] END ...max_depth=2, min_samples_leaf=5, n_estimators=75; total time=   7.5s\n",
      "[CV] END ...max_depth=2, min_samples_leaf=5, n_estimators=75; total time=   8.3s\n",
      "[CV] END ...max_depth=2, min_samples_leaf=5, n_estimators=75; total time=   9.2s\n",
      "[CV] END ...max_depth=2, min_samples_leaf=5, n_estimators=75; total time=   7.9s\n",
      "[CV] END ...max_depth=2, min_samples_leaf=5, n_estimators=75; total time=   8.3s\n",
      "[CV] END ...max_depth=2, min_samples_leaf=5, n_estimators=75; total time=   7.0s\n",
      "[CV] END ...max_depth=2, min_samples_leaf=5, n_estimators=75; total time=   7.4s\n",
      "[CV] END ...max_depth=2, min_samples_leaf=5, n_estimators=75; total time=   7.1s\n",
      "[CV] END ...max_depth=2, min_samples_leaf=5, n_estimators=75; total time=   8.4s\n",
      "[CV] END ...max_depth=2, min_samples_leaf=5, n_estimators=75; total time=   7.2s\n",
      "[CV] END ...max_depth=2, min_samples_leaf=5, n_estimators=90; total time=   8.9s\n",
      "[CV] END ...max_depth=2, min_samples_leaf=5, n_estimators=90; total time=   8.6s\n",
      "[CV] END ...max_depth=2, min_samples_leaf=5, n_estimators=90; total time=   8.7s\n",
      "[CV] END ...max_depth=2, min_samples_leaf=5, n_estimators=90; total time=  10.5s\n",
      "[CV] END ...max_depth=2, min_samples_leaf=5, n_estimators=90; total time=   9.7s\n",
      "[CV] END ...max_depth=2, min_samples_leaf=5, n_estimators=90; total time=   8.3s\n",
      "[CV] END ...max_depth=2, min_samples_leaf=5, n_estimators=90; total time=   8.4s\n",
      "[CV] END ...max_depth=2, min_samples_leaf=5, n_estimators=90; total time=   8.4s\n",
      "[CV] END ...max_depth=2, min_samples_leaf=5, n_estimators=90; total time=   8.1s\n",
      "[CV] END ...max_depth=2, min_samples_leaf=5, n_estimators=90; total time=   8.3s\n",
      "[CV] END ..max_depth=2, min_samples_leaf=5, n_estimators=105; total time=   9.7s\n",
      "[CV] END ..max_depth=2, min_samples_leaf=5, n_estimators=105; total time=   9.7s\n",
      "[CV] END ..max_depth=2, min_samples_leaf=5, n_estimators=105; total time=   9.5s\n",
      "[CV] END ..max_depth=2, min_samples_leaf=5, n_estimators=105; total time=   9.4s\n",
      "[CV] END ..max_depth=2, min_samples_leaf=5, n_estimators=105; total time=   9.9s\n",
      "[CV] END ..max_depth=2, min_samples_leaf=5, n_estimators=105; total time=   9.5s\n",
      "[CV] END ..max_depth=2, min_samples_leaf=5, n_estimators=105; total time=   9.5s\n",
      "[CV] END ..max_depth=2, min_samples_leaf=5, n_estimators=105; total time=   9.3s\n",
      "[CV] END ..max_depth=2, min_samples_leaf=5, n_estimators=105; total time=   9.3s\n",
      "[CV] END ..max_depth=2, min_samples_leaf=5, n_estimators=105; total time=   9.5s\n",
      "[CV] END ...max_depth=3, min_samples_leaf=1, n_estimators=60; total time=   9.6s\n",
      "[CV] END ...max_depth=3, min_samples_leaf=1, n_estimators=60; total time=   8.8s\n",
      "[CV] END ...max_depth=3, min_samples_leaf=1, n_estimators=60; total time=   8.9s\n",
      "[CV] END ...max_depth=3, min_samples_leaf=1, n_estimators=60; total time=   8.9s\n",
      "[CV] END ...max_depth=3, min_samples_leaf=1, n_estimators=60; total time=   9.3s\n",
      "[CV] END ...max_depth=3, min_samples_leaf=1, n_estimators=60; total time=   7.6s\n",
      "[CV] END ...max_depth=3, min_samples_leaf=1, n_estimators=60; total time=   6.2s\n",
      "[CV] END ...max_depth=3, min_samples_leaf=1, n_estimators=60; total time=   6.5s\n",
      "[CV] END ...max_depth=3, min_samples_leaf=1, n_estimators=60; total time=   6.4s\n",
      "[CV] END ...max_depth=3, min_samples_leaf=1, n_estimators=60; total time=   5.9s\n",
      "[CV] END ...max_depth=3, min_samples_leaf=1, n_estimators=75; total time=   7.6s\n",
      "[CV] END ...max_depth=3, min_samples_leaf=1, n_estimators=75; total time=   8.3s\n",
      "[CV] END ...max_depth=3, min_samples_leaf=1, n_estimators=75; total time=  11.4s\n",
      "[CV] END ...max_depth=3, min_samples_leaf=1, n_estimators=75; total time=  10.3s\n",
      "[CV] END ...max_depth=3, min_samples_leaf=1, n_estimators=75; total time=   9.1s\n",
      "[CV] END ...max_depth=3, min_samples_leaf=1, n_estimators=75; total time=   8.5s\n",
      "[CV] END ...max_depth=3, min_samples_leaf=1, n_estimators=75; total time=   8.7s\n",
      "[CV] END ...max_depth=3, min_samples_leaf=1, n_estimators=75; total time=   9.2s\n",
      "[CV] END ...max_depth=3, min_samples_leaf=1, n_estimators=75; total time=  10.2s\n",
      "[CV] END ...max_depth=3, min_samples_leaf=1, n_estimators=75; total time=  10.6s\n",
      "[CV] END ...max_depth=3, min_samples_leaf=1, n_estimators=90; total time=  11.5s\n",
      "[CV] END ...max_depth=3, min_samples_leaf=1, n_estimators=90; total time=  12.4s\n",
      "[CV] END ...max_depth=3, min_samples_leaf=1, n_estimators=90; total time=  10.4s\n",
      "[CV] END ...max_depth=3, min_samples_leaf=1, n_estimators=90; total time=  10.4s\n",
      "[CV] END ...max_depth=3, min_samples_leaf=1, n_estimators=90; total time=  10.1s\n",
      "[CV] END ...max_depth=3, min_samples_leaf=1, n_estimators=90; total time=  10.9s\n",
      "[CV] END ...max_depth=3, min_samples_leaf=1, n_estimators=90; total time=  10.2s\n",
      "[CV] END ...max_depth=3, min_samples_leaf=1, n_estimators=90; total time=  10.8s\n",
      "[CV] END ...max_depth=3, min_samples_leaf=1, n_estimators=90; total time=  11.6s\n",
      "[CV] END ...max_depth=3, min_samples_leaf=1, n_estimators=90; total time=  11.3s\n",
      "[CV] END ..max_depth=3, min_samples_leaf=1, n_estimators=105; total time=  13.6s\n",
      "[CV] END ..max_depth=3, min_samples_leaf=1, n_estimators=105; total time=  12.8s\n",
      "[CV] END ..max_depth=3, min_samples_leaf=1, n_estimators=105; total time=  12.3s\n",
      "[CV] END ..max_depth=3, min_samples_leaf=1, n_estimators=105; total time=  12.3s\n",
      "[CV] END ..max_depth=3, min_samples_leaf=1, n_estimators=105; total time=  12.1s\n",
      "[CV] END ..max_depth=3, min_samples_leaf=1, n_estimators=105; total time=  12.0s\n",
      "[CV] END ..max_depth=3, min_samples_leaf=1, n_estimators=105; total time=  12.4s\n",
      "[CV] END ..max_depth=3, min_samples_leaf=1, n_estimators=105; total time=  12.0s\n",
      "[CV] END ..max_depth=3, min_samples_leaf=1, n_estimators=105; total time=  12.1s\n",
      "[CV] END ..max_depth=3, min_samples_leaf=1, n_estimators=105; total time=  11.7s\n",
      "[CV] END ...max_depth=3, min_samples_leaf=2, n_estimators=60; total time=   7.0s\n",
      "[CV] END ...max_depth=3, min_samples_leaf=2, n_estimators=60; total time=   7.0s\n",
      "[CV] END ...max_depth=3, min_samples_leaf=2, n_estimators=60; total time=   7.0s\n",
      "[CV] END ...max_depth=3, min_samples_leaf=2, n_estimators=60; total time=   6.9s\n",
      "[CV] END ...max_depth=3, min_samples_leaf=2, n_estimators=60; total time=   8.3s\n",
      "[CV] END ...max_depth=3, min_samples_leaf=2, n_estimators=60; total time=   7.2s\n",
      "[CV] END ...max_depth=3, min_samples_leaf=2, n_estimators=60; total time=   6.6s\n",
      "[CV] END ...max_depth=3, min_samples_leaf=2, n_estimators=60; total time=   6.1s\n",
      "[CV] END ...max_depth=3, min_samples_leaf=2, n_estimators=60; total time=   8.6s\n",
      "[CV] END ...max_depth=3, min_samples_leaf=2, n_estimators=60; total time=   8.2s\n",
      "[CV] END ...max_depth=3, min_samples_leaf=2, n_estimators=75; total time=   8.8s\n",
      "[CV] END ...max_depth=3, min_samples_leaf=2, n_estimators=75; total time=   8.5s\n",
      "[CV] END ...max_depth=3, min_samples_leaf=2, n_estimators=75; total time=   9.5s\n",
      "[CV] END ...max_depth=3, min_samples_leaf=2, n_estimators=75; total time=   9.5s\n",
      "[CV] END ...max_depth=3, min_samples_leaf=2, n_estimators=75; total time=   9.0s\n",
      "[CV] END ...max_depth=3, min_samples_leaf=2, n_estimators=75; total time=   9.1s\n",
      "[CV] END ...max_depth=3, min_samples_leaf=2, n_estimators=75; total time=   8.6s\n",
      "[CV] END ...max_depth=3, min_samples_leaf=2, n_estimators=75; total time=   8.7s\n",
      "[CV] END ...max_depth=3, min_samples_leaf=2, n_estimators=75; total time=   8.8s\n",
      "[CV] END ...max_depth=3, min_samples_leaf=2, n_estimators=75; total time=   9.4s\n",
      "[CV] END ...max_depth=3, min_samples_leaf=2, n_estimators=90; total time=  10.3s\n",
      "[CV] END ...max_depth=3, min_samples_leaf=2, n_estimators=90; total time=  10.2s\n",
      "[CV] END ...max_depth=3, min_samples_leaf=2, n_estimators=90; total time=  10.2s\n",
      "[CV] END ...max_depth=3, min_samples_leaf=2, n_estimators=90; total time=  10.4s\n",
      "[CV] END ...max_depth=3, min_samples_leaf=2, n_estimators=90; total time=  10.3s\n",
      "[CV] END ...max_depth=3, min_samples_leaf=2, n_estimators=90; total time=  10.3s\n",
      "[CV] END ...max_depth=3, min_samples_leaf=2, n_estimators=90; total time=  10.6s\n",
      "[CV] END ...max_depth=3, min_samples_leaf=2, n_estimators=90; total time=  11.4s\n",
      "[CV] END ...max_depth=3, min_samples_leaf=2, n_estimators=90; total time=  13.5s\n",
      "[CV] END ...max_depth=3, min_samples_leaf=2, n_estimators=90; total time=  10.7s\n",
      "[CV] END ..max_depth=3, min_samples_leaf=2, n_estimators=105; total time=  12.3s\n",
      "[CV] END ..max_depth=3, min_samples_leaf=2, n_estimators=105; total time=  12.0s\n",
      "[CV] END ..max_depth=3, min_samples_leaf=2, n_estimators=105; total time=  12.6s\n",
      "[CV] END ..max_depth=3, min_samples_leaf=2, n_estimators=105; total time=  13.7s\n",
      "[CV] END ..max_depth=3, min_samples_leaf=2, n_estimators=105; total time=  12.1s\n",
      "[CV] END ..max_depth=3, min_samples_leaf=2, n_estimators=105; total time=  12.3s\n",
      "[CV] END ..max_depth=3, min_samples_leaf=2, n_estimators=105; total time=  12.8s\n",
      "[CV] END ..max_depth=3, min_samples_leaf=2, n_estimators=105; total time=  12.6s\n",
      "[CV] END ..max_depth=3, min_samples_leaf=2, n_estimators=105; total time=  13.7s\n",
      "[CV] END ..max_depth=3, min_samples_leaf=2, n_estimators=105; total time=  12.8s\n",
      "[CV] END ...max_depth=3, min_samples_leaf=5, n_estimators=60; total time=   6.4s\n",
      "[CV] END ...max_depth=3, min_samples_leaf=5, n_estimators=60; total time=   6.2s\n",
      "[CV] END ...max_depth=3, min_samples_leaf=5, n_estimators=60; total time=   6.9s\n",
      "[CV] END ...max_depth=3, min_samples_leaf=5, n_estimators=60; total time=   7.0s\n",
      "[CV] END ...max_depth=3, min_samples_leaf=5, n_estimators=60; total time=   7.0s\n",
      "[CV] END ...max_depth=3, min_samples_leaf=5, n_estimators=60; total time=   7.5s\n",
      "[CV] END ...max_depth=3, min_samples_leaf=5, n_estimators=60; total time=   7.8s\n",
      "[CV] END ...max_depth=3, min_samples_leaf=5, n_estimators=60; total time=   7.3s\n",
      "[CV] END ...max_depth=3, min_samples_leaf=5, n_estimators=60; total time=   8.0s\n",
      "[CV] END ...max_depth=3, min_samples_leaf=5, n_estimators=60; total time=   7.7s\n",
      "[CV] END ...max_depth=3, min_samples_leaf=5, n_estimators=75; total time=   9.4s\n",
      "[CV] END ...max_depth=3, min_samples_leaf=5, n_estimators=75; total time=   8.8s\n",
      "[CV] END ...max_depth=3, min_samples_leaf=5, n_estimators=75; total time=   8.4s\n",
      "[CV] END ...max_depth=3, min_samples_leaf=5, n_estimators=75; total time=  10.5s\n",
      "[CV] END ...max_depth=3, min_samples_leaf=5, n_estimators=75; total time=   9.6s\n",
      "[CV] END ...max_depth=3, min_samples_leaf=5, n_estimators=75; total time=   9.3s\n",
      "[CV] END ...max_depth=3, min_samples_leaf=5, n_estimators=75; total time=  10.1s\n",
      "[CV] END ...max_depth=3, min_samples_leaf=5, n_estimators=75; total time=   9.0s\n",
      "[CV] END ...max_depth=3, min_samples_leaf=5, n_estimators=75; total time=   8.7s\n",
      "[CV] END ...max_depth=3, min_samples_leaf=5, n_estimators=75; total time=   8.7s\n",
      "[CV] END ...max_depth=3, min_samples_leaf=5, n_estimators=90; total time=  10.4s\n",
      "[CV] END ...max_depth=3, min_samples_leaf=5, n_estimators=90; total time=  11.0s\n",
      "[CV] END ...max_depth=3, min_samples_leaf=5, n_estimators=90; total time=  10.6s\n",
      "[CV] END ...max_depth=3, min_samples_leaf=5, n_estimators=90; total time=  10.5s\n",
      "[CV] END ...max_depth=3, min_samples_leaf=5, n_estimators=90; total time=  10.6s\n",
      "[CV] END ...max_depth=3, min_samples_leaf=5, n_estimators=90; total time=  10.5s\n",
      "[CV] END ...max_depth=3, min_samples_leaf=5, n_estimators=90; total time=  10.3s\n",
      "[CV] END ...max_depth=3, min_samples_leaf=5, n_estimators=90; total time=  10.5s\n",
      "[CV] END ...max_depth=3, min_samples_leaf=5, n_estimators=90; total time=  12.9s\n",
      "[CV] END ...max_depth=3, min_samples_leaf=5, n_estimators=90; total time=  13.0s\n",
      "[CV] END ..max_depth=3, min_samples_leaf=5, n_estimators=105; total time=  13.1s\n",
      "[CV] END ..max_depth=3, min_samples_leaf=5, n_estimators=105; total time=  13.1s\n",
      "[CV] END ..max_depth=3, min_samples_leaf=5, n_estimators=105; total time=  12.9s\n",
      "[CV] END ..max_depth=3, min_samples_leaf=5, n_estimators=105; total time=  13.9s\n",
      "[CV] END ..max_depth=3, min_samples_leaf=5, n_estimators=105; total time=  13.7s\n",
      "[CV] END ..max_depth=3, min_samples_leaf=5, n_estimators=105; total time=  12.5s\n",
      "[CV] END ..max_depth=3, min_samples_leaf=5, n_estimators=105; total time=  11.5s\n",
      "[CV] END ..max_depth=3, min_samples_leaf=5, n_estimators=105; total time=  12.6s\n",
      "[CV] END ..max_depth=3, min_samples_leaf=5, n_estimators=105; total time=  13.0s\n",
      "[CV] END ..max_depth=3, min_samples_leaf=5, n_estimators=105; total time=  16.3s\n",
      "[CV] END ...max_depth=4, min_samples_leaf=1, n_estimators=60; total time=  11.6s\n",
      "[CV] END ...max_depth=4, min_samples_leaf=1, n_estimators=60; total time=  12.0s\n",
      "[CV] END ...max_depth=4, min_samples_leaf=1, n_estimators=60; total time=   9.4s\n",
      "[CV] END ...max_depth=4, min_samples_leaf=1, n_estimators=60; total time=   7.7s\n",
      "[CV] END ...max_depth=4, min_samples_leaf=1, n_estimators=60; total time=   7.8s\n",
      "[CV] END ...max_depth=4, min_samples_leaf=1, n_estimators=60; total time=   8.5s\n",
      "[CV] END ...max_depth=4, min_samples_leaf=1, n_estimators=60; total time=   7.9s\n",
      "[CV] END ...max_depth=4, min_samples_leaf=1, n_estimators=60; total time=   8.0s\n",
      "[CV] END ...max_depth=4, min_samples_leaf=1, n_estimators=60; total time=   7.8s\n",
      "[CV] END ...max_depth=4, min_samples_leaf=1, n_estimators=60; total time=   7.3s\n",
      "[CV] END ...max_depth=4, min_samples_leaf=1, n_estimators=75; total time=   9.2s\n",
      "[CV] END ...max_depth=4, min_samples_leaf=1, n_estimators=75; total time=   9.2s\n",
      "[CV] END ...max_depth=4, min_samples_leaf=1, n_estimators=75; total time=   8.9s\n",
      "[CV] END ...max_depth=4, min_samples_leaf=1, n_estimators=75; total time=   9.2s\n",
      "[CV] END ...max_depth=4, min_samples_leaf=1, n_estimators=75; total time=   9.0s\n",
      "[CV] END ...max_depth=4, min_samples_leaf=1, n_estimators=75; total time=   9.1s\n",
      "[CV] END ...max_depth=4, min_samples_leaf=1, n_estimators=75; total time=   9.3s\n",
      "[CV] END ...max_depth=4, min_samples_leaf=1, n_estimators=75; total time=   9.1s\n",
      "[CV] END ...max_depth=4, min_samples_leaf=1, n_estimators=75; total time=   9.4s\n",
      "[CV] END ...max_depth=4, min_samples_leaf=1, n_estimators=75; total time=   9.1s\n",
      "[CV] END ...max_depth=4, min_samples_leaf=1, n_estimators=90; total time=  11.0s\n",
      "[CV] END ...max_depth=4, min_samples_leaf=1, n_estimators=90; total time=  11.1s\n",
      "[CV] END ...max_depth=4, min_samples_leaf=1, n_estimators=90; total time=  10.8s\n",
      "[CV] END ...max_depth=4, min_samples_leaf=1, n_estimators=90; total time=  11.0s\n",
      "[CV] END ...max_depth=4, min_samples_leaf=1, n_estimators=90; total time=  11.1s\n",
      "[CV] END ...max_depth=4, min_samples_leaf=1, n_estimators=90; total time=  11.0s\n",
      "[CV] END ...max_depth=4, min_samples_leaf=1, n_estimators=90; total time=  10.8s\n",
      "[CV] END ...max_depth=4, min_samples_leaf=1, n_estimators=90; total time=  10.9s\n",
      "[CV] END ...max_depth=4, min_samples_leaf=1, n_estimators=90; total time=  11.2s\n",
      "[CV] END ...max_depth=4, min_samples_leaf=1, n_estimators=90; total time=  10.7s\n",
      "[CV] END ..max_depth=4, min_samples_leaf=1, n_estimators=105; total time=  12.8s\n",
      "[CV] END ..max_depth=4, min_samples_leaf=1, n_estimators=105; total time=  12.8s\n",
      "[CV] END ..max_depth=4, min_samples_leaf=1, n_estimators=105; total time=  13.7s\n",
      "[CV] END ..max_depth=4, min_samples_leaf=1, n_estimators=105; total time=  14.2s\n",
      "[CV] END ..max_depth=4, min_samples_leaf=1, n_estimators=105; total time=  13.1s\n",
      "[CV] END ..max_depth=4, min_samples_leaf=1, n_estimators=105; total time=  12.8s\n",
      "[CV] END ..max_depth=4, min_samples_leaf=1, n_estimators=105; total time=  12.8s\n",
      "[CV] END ..max_depth=4, min_samples_leaf=1, n_estimators=105; total time=  12.5s\n",
      "[CV] END ..max_depth=4, min_samples_leaf=1, n_estimators=105; total time=  13.6s\n",
      "[CV] END ..max_depth=4, min_samples_leaf=1, n_estimators=105; total time=  12.6s\n",
      "[CV] END ...max_depth=4, min_samples_leaf=2, n_estimators=60; total time=   7.2s\n",
      "[CV] END ...max_depth=4, min_samples_leaf=2, n_estimators=60; total time=   7.0s\n",
      "[CV] END ...max_depth=4, min_samples_leaf=2, n_estimators=60; total time=   8.5s\n",
      "[CV] END ...max_depth=4, min_samples_leaf=2, n_estimators=60; total time=   7.2s\n",
      "[CV] END ...max_depth=4, min_samples_leaf=2, n_estimators=60; total time=   7.4s\n",
      "[CV] END ...max_depth=4, min_samples_leaf=2, n_estimators=60; total time=   7.2s\n",
      "[CV] END ...max_depth=4, min_samples_leaf=2, n_estimators=60; total time=   7.9s\n",
      "[CV] END ...max_depth=4, min_samples_leaf=2, n_estimators=60; total time=   7.6s\n",
      "[CV] END ...max_depth=4, min_samples_leaf=2, n_estimators=60; total time=   8.2s\n",
      "[CV] END ...max_depth=4, min_samples_leaf=2, n_estimators=60; total time=   7.9s\n",
      "[CV] END ...max_depth=4, min_samples_leaf=2, n_estimators=75; total time=   9.8s\n",
      "[CV] END ...max_depth=4, min_samples_leaf=2, n_estimators=75; total time=   9.9s\n",
      "[CV] END ...max_depth=4, min_samples_leaf=2, n_estimators=75; total time=  10.0s\n",
      "[CV] END ...max_depth=4, min_samples_leaf=2, n_estimators=75; total time=   9.7s\n",
      "[CV] END ...max_depth=4, min_samples_leaf=2, n_estimators=75; total time=   9.6s\n",
      "[CV] END ...max_depth=4, min_samples_leaf=2, n_estimators=75; total time=   9.4s\n",
      "[CV] END ...max_depth=4, min_samples_leaf=2, n_estimators=75; total time=   9.6s\n",
      "[CV] END ...max_depth=4, min_samples_leaf=2, n_estimators=75; total time=   9.4s\n",
      "[CV] END ...max_depth=4, min_samples_leaf=2, n_estimators=75; total time=  10.0s\n",
      "[CV] END ...max_depth=4, min_samples_leaf=2, n_estimators=75; total time=   9.7s\n",
      "[CV] END ...max_depth=4, min_samples_leaf=2, n_estimators=90; total time=  11.5s\n",
      "[CV] END ...max_depth=4, min_samples_leaf=2, n_estimators=90; total time=  11.5s\n",
      "[CV] END ...max_depth=4, min_samples_leaf=2, n_estimators=90; total time=  11.4s\n",
      "[CV] END ...max_depth=4, min_samples_leaf=2, n_estimators=90; total time=  12.3s\n",
      "[CV] END ...max_depth=4, min_samples_leaf=2, n_estimators=90; total time=  11.5s\n",
      "[CV] END ...max_depth=4, min_samples_leaf=2, n_estimators=90; total time=  11.6s\n",
      "[CV] END ...max_depth=4, min_samples_leaf=2, n_estimators=90; total time=  12.0s\n",
      "[CV] END ...max_depth=4, min_samples_leaf=2, n_estimators=90; total time=  11.9s\n",
      "[CV] END ...max_depth=4, min_samples_leaf=2, n_estimators=90; total time=  11.9s\n",
      "[CV] END ...max_depth=4, min_samples_leaf=2, n_estimators=90; total time=  11.2s\n",
      "[CV] END ..max_depth=4, min_samples_leaf=2, n_estimators=105; total time=  12.7s\n",
      "[CV] END ..max_depth=4, min_samples_leaf=2, n_estimators=105; total time=  12.7s\n",
      "[CV] END ..max_depth=4, min_samples_leaf=2, n_estimators=105; total time=  12.6s\n",
      "[CV] END ..max_depth=4, min_samples_leaf=2, n_estimators=105; total time=  12.8s\n",
      "[CV] END ..max_depth=4, min_samples_leaf=2, n_estimators=105; total time=  13.9s\n",
      "[CV] END ..max_depth=4, min_samples_leaf=2, n_estimators=105; total time=  13.9s\n",
      "[CV] END ..max_depth=4, min_samples_leaf=2, n_estimators=105; total time=  13.4s\n",
      "[CV] END ..max_depth=4, min_samples_leaf=2, n_estimators=105; total time=  13.3s\n",
      "[CV] END ..max_depth=4, min_samples_leaf=2, n_estimators=105; total time=  12.9s\n",
      "[CV] END ..max_depth=4, min_samples_leaf=2, n_estimators=105; total time=  13.1s\n",
      "[CV] END ...max_depth=4, min_samples_leaf=5, n_estimators=60; total time=   7.6s\n",
      "[CV] END ...max_depth=4, min_samples_leaf=5, n_estimators=60; total time=   7.2s\n",
      "[CV] END ...max_depth=4, min_samples_leaf=5, n_estimators=60; total time=   7.5s\n",
      "[CV] END ...max_depth=4, min_samples_leaf=5, n_estimators=60; total time=   7.4s\n",
      "[CV] END ...max_depth=4, min_samples_leaf=5, n_estimators=60; total time=   7.3s\n",
      "[CV] END ...max_depth=4, min_samples_leaf=5, n_estimators=60; total time=   7.3s\n",
      "[CV] END ...max_depth=4, min_samples_leaf=5, n_estimators=60; total time=   7.4s\n",
      "[CV] END ...max_depth=4, min_samples_leaf=5, n_estimators=60; total time=   7.5s\n",
      "[CV] END ...max_depth=4, min_samples_leaf=5, n_estimators=60; total time=   7.3s\n",
      "[CV] END ...max_depth=4, min_samples_leaf=5, n_estimators=60; total time=   7.5s\n",
      "[CV] END ...max_depth=4, min_samples_leaf=5, n_estimators=75; total time=   9.0s\n",
      "[CV] END ...max_depth=4, min_samples_leaf=5, n_estimators=75; total time=   9.2s\n",
      "[CV] END ...max_depth=4, min_samples_leaf=5, n_estimators=75; total time=   9.0s\n",
      "[CV] END ...max_depth=4, min_samples_leaf=5, n_estimators=75; total time=   9.3s\n",
      "[CV] END ...max_depth=4, min_samples_leaf=5, n_estimators=75; total time=   9.1s\n",
      "[CV] END ...max_depth=4, min_samples_leaf=5, n_estimators=75; total time=   9.3s\n",
      "[CV] END ...max_depth=4, min_samples_leaf=5, n_estimators=75; total time=   9.0s\n",
      "[CV] END ...max_depth=4, min_samples_leaf=5, n_estimators=75; total time=   8.9s\n",
      "[CV] END ...max_depth=4, min_samples_leaf=5, n_estimators=75; total time=   9.1s\n",
      "[CV] END ...max_depth=4, min_samples_leaf=5, n_estimators=75; total time=   9.3s\n",
      "[CV] END ...max_depth=4, min_samples_leaf=5, n_estimators=90; total time=  11.0s\n",
      "[CV] END ...max_depth=4, min_samples_leaf=5, n_estimators=90; total time=  11.1s\n",
      "[CV] END ...max_depth=4, min_samples_leaf=5, n_estimators=90; total time=  10.9s\n",
      "[CV] END ...max_depth=4, min_samples_leaf=5, n_estimators=90; total time=  11.1s\n",
      "[CV] END ...max_depth=4, min_samples_leaf=5, n_estimators=90; total time=  10.9s\n",
      "[CV] END ...max_depth=4, min_samples_leaf=5, n_estimators=90; total time=  11.0s\n",
      "[CV] END ...max_depth=4, min_samples_leaf=5, n_estimators=90; total time=  11.0s\n",
      "[CV] END ...max_depth=4, min_samples_leaf=5, n_estimators=90; total time=  11.0s\n",
      "[CV] END ...max_depth=4, min_samples_leaf=5, n_estimators=90; total time=  10.9s\n",
      "[CV] END ...max_depth=4, min_samples_leaf=5, n_estimators=90; total time=  11.3s\n",
      "[CV] END ..max_depth=4, min_samples_leaf=5, n_estimators=105; total time=  12.8s\n",
      "[CV] END ..max_depth=4, min_samples_leaf=5, n_estimators=105; total time=  12.7s\n",
      "[CV] END ..max_depth=4, min_samples_leaf=5, n_estimators=105; total time=  12.8s\n",
      "[CV] END ..max_depth=4, min_samples_leaf=5, n_estimators=105; total time=  12.7s\n",
      "[CV] END ..max_depth=4, min_samples_leaf=5, n_estimators=105; total time=  12.5s\n",
      "[CV] END ..max_depth=4, min_samples_leaf=5, n_estimators=105; total time=  12.6s\n",
      "[CV] END ..max_depth=4, min_samples_leaf=5, n_estimators=105; total time=  13.8s\n",
      "[CV] END ..max_depth=4, min_samples_leaf=5, n_estimators=105; total time=  13.3s\n",
      "[CV] END ..max_depth=4, min_samples_leaf=5, n_estimators=105; total time=  13.6s\n",
      "[CV] END ..max_depth=4, min_samples_leaf=5, n_estimators=105; total time=  13.3s\n",
      "[CV] END ...max_depth=5, min_samples_leaf=1, n_estimators=60; total time=   8.8s\n",
      "[CV] END ...max_depth=5, min_samples_leaf=1, n_estimators=60; total time=   9.1s\n",
      "[CV] END ...max_depth=5, min_samples_leaf=1, n_estimators=60; total time=   8.9s\n",
      "[CV] END ...max_depth=5, min_samples_leaf=1, n_estimators=60; total time=   9.4s\n",
      "[CV] END ...max_depth=5, min_samples_leaf=1, n_estimators=60; total time=   9.7s\n",
      "[CV] END ...max_depth=5, min_samples_leaf=1, n_estimators=60; total time=   8.9s\n",
      "[CV] END ...max_depth=5, min_samples_leaf=1, n_estimators=60; total time=   9.2s\n",
      "[CV] END ...max_depth=5, min_samples_leaf=1, n_estimators=60; total time=   9.1s\n",
      "[CV] END ...max_depth=5, min_samples_leaf=1, n_estimators=60; total time=   9.2s\n",
      "[CV] END ...max_depth=5, min_samples_leaf=1, n_estimators=60; total time=   9.1s\n",
      "[CV] END ...max_depth=5, min_samples_leaf=1, n_estimators=75; total time=  11.1s\n",
      "[CV] END ...max_depth=5, min_samples_leaf=1, n_estimators=75; total time=  11.3s\n",
      "[CV] END ...max_depth=5, min_samples_leaf=1, n_estimators=75; total time=  11.5s\n",
      "[CV] END ...max_depth=5, min_samples_leaf=1, n_estimators=75; total time=  11.1s\n",
      "[CV] END ...max_depth=5, min_samples_leaf=1, n_estimators=75; total time=  11.2s\n",
      "[CV] END ...max_depth=5, min_samples_leaf=1, n_estimators=75; total time=  11.0s\n",
      "[CV] END ...max_depth=5, min_samples_leaf=1, n_estimators=75; total time=  10.8s\n",
      "[CV] END ...max_depth=5, min_samples_leaf=1, n_estimators=75; total time=  11.2s\n",
      "[CV] END ...max_depth=5, min_samples_leaf=1, n_estimators=75; total time=  10.9s\n",
      "[CV] END ...max_depth=5, min_samples_leaf=1, n_estimators=75; total time=  11.0s\n",
      "[CV] END ...max_depth=5, min_samples_leaf=1, n_estimators=90; total time=  13.3s\n",
      "[CV] END ...max_depth=5, min_samples_leaf=1, n_estimators=90; total time=  14.2s\n",
      "[CV] END ...max_depth=5, min_samples_leaf=1, n_estimators=90; total time=  13.4s\n",
      "[CV] END ...max_depth=5, min_samples_leaf=1, n_estimators=90; total time=  13.4s\n",
      "[CV] END ...max_depth=5, min_samples_leaf=1, n_estimators=90; total time=  13.2s\n",
      "[CV] END ...max_depth=5, min_samples_leaf=1, n_estimators=90; total time=  13.5s\n",
      "[CV] END ...max_depth=5, min_samples_leaf=1, n_estimators=90; total time=  13.1s\n",
      "[CV] END ...max_depth=5, min_samples_leaf=1, n_estimators=90; total time=  13.3s\n",
      "[CV] END ...max_depth=5, min_samples_leaf=1, n_estimators=90; total time=  13.2s\n",
      "[CV] END ...max_depth=5, min_samples_leaf=1, n_estimators=90; total time=  13.5s\n",
      "[CV] END ..max_depth=5, min_samples_leaf=1, n_estimators=105; total time=  15.6s\n",
      "[CV] END ..max_depth=5, min_samples_leaf=1, n_estimators=105; total time=  15.6s\n",
      "[CV] END ..max_depth=5, min_samples_leaf=1, n_estimators=105; total time=  15.6s\n",
      "[CV] END ..max_depth=5, min_samples_leaf=1, n_estimators=105; total time=  17.4s\n",
      "[CV] END ..max_depth=5, min_samples_leaf=1, n_estimators=105; total time=  15.8s\n",
      "[CV] END ..max_depth=5, min_samples_leaf=1, n_estimators=105; total time=  15.8s\n",
      "[CV] END ..max_depth=5, min_samples_leaf=1, n_estimators=105; total time=  15.6s\n",
      "[CV] END ..max_depth=5, min_samples_leaf=1, n_estimators=105; total time=  16.0s\n",
      "[CV] END ..max_depth=5, min_samples_leaf=1, n_estimators=105; total time=  16.0s\n",
      "[CV] END ..max_depth=5, min_samples_leaf=1, n_estimators=105; total time=  15.5s\n",
      "[CV] END ...max_depth=5, min_samples_leaf=2, n_estimators=60; total time=   9.0s\n",
      "[CV] END ...max_depth=5, min_samples_leaf=2, n_estimators=60; total time=   9.0s\n",
      "[CV] END ...max_depth=5, min_samples_leaf=2, n_estimators=60; total time=   9.1s\n",
      "[CV] END ...max_depth=5, min_samples_leaf=2, n_estimators=60; total time=   8.9s\n",
      "[CV] END ...max_depth=5, min_samples_leaf=2, n_estimators=60; total time=   9.0s\n",
      "[CV] END ...max_depth=5, min_samples_leaf=2, n_estimators=60; total time=   8.8s\n",
      "[CV] END ...max_depth=5, min_samples_leaf=2, n_estimators=60; total time=   8.7s\n",
      "[CV] END ...max_depth=5, min_samples_leaf=2, n_estimators=60; total time=   8.6s\n",
      "[CV] END ...max_depth=5, min_samples_leaf=2, n_estimators=60; total time=   8.8s\n",
      "[CV] END ...max_depth=5, min_samples_leaf=2, n_estimators=60; total time=   8.6s\n",
      "[CV] END ...max_depth=5, min_samples_leaf=2, n_estimators=75; total time=  10.6s\n",
      "[CV] END ...max_depth=5, min_samples_leaf=2, n_estimators=75; total time=  10.8s\n",
      "[CV] END ...max_depth=5, min_samples_leaf=2, n_estimators=75; total time=  11.1s\n",
      "[CV] END ...max_depth=5, min_samples_leaf=2, n_estimators=75; total time=  12.2s\n",
      "[CV] END ...max_depth=5, min_samples_leaf=2, n_estimators=75; total time=  11.0s\n",
      "[CV] END ...max_depth=5, min_samples_leaf=2, n_estimators=75; total time=  10.7s\n",
      "[CV] END ...max_depth=5, min_samples_leaf=2, n_estimators=75; total time=  10.8s\n",
      "[CV] END ...max_depth=5, min_samples_leaf=2, n_estimators=75; total time=  11.0s\n",
      "[CV] END ...max_depth=5, min_samples_leaf=2, n_estimators=75; total time=  10.8s\n",
      "[CV] END ...max_depth=5, min_samples_leaf=2, n_estimators=75; total time=  10.5s\n",
      "[CV] END ...max_depth=5, min_samples_leaf=2, n_estimators=90; total time=  12.7s\n",
      "[CV] END ...max_depth=5, min_samples_leaf=2, n_estimators=90; total time=  12.8s\n",
      "[CV] END ...max_depth=5, min_samples_leaf=2, n_estimators=90; total time=  13.0s\n",
      "[CV] END ...max_depth=5, min_samples_leaf=2, n_estimators=90; total time=  12.9s\n",
      "[CV] END ...max_depth=5, min_samples_leaf=2, n_estimators=90; total time=  12.9s\n",
      "[CV] END ...max_depth=5, min_samples_leaf=2, n_estimators=90; total time=  12.7s\n",
      "[CV] END ...max_depth=5, min_samples_leaf=2, n_estimators=90; total time=  12.8s\n",
      "[CV] END ...max_depth=5, min_samples_leaf=2, n_estimators=90; total time=  12.8s\n",
      "[CV] END ...max_depth=5, min_samples_leaf=2, n_estimators=90; total time=  12.9s\n",
      "[CV] END ...max_depth=5, min_samples_leaf=2, n_estimators=90; total time=  13.2s\n",
      "[CV] END ..max_depth=5, min_samples_leaf=2, n_estimators=105; total time=  14.8s\n",
      "[CV] END ..max_depth=5, min_samples_leaf=2, n_estimators=105; total time=  14.9s\n",
      "[CV] END ..max_depth=5, min_samples_leaf=2, n_estimators=105; total time=  15.6s\n",
      "[CV] END ..max_depth=5, min_samples_leaf=2, n_estimators=105; total time=  16.2s\n",
      "[CV] END ..max_depth=5, min_samples_leaf=2, n_estimators=105; total time=  15.6s\n",
      "[CV] END ..max_depth=5, min_samples_leaf=2, n_estimators=105; total time=  15.8s\n",
      "[CV] END ..max_depth=5, min_samples_leaf=2, n_estimators=105; total time=  15.8s\n",
      "[CV] END ..max_depth=5, min_samples_leaf=2, n_estimators=105; total time=  16.3s\n",
      "[CV] END ..max_depth=5, min_samples_leaf=2, n_estimators=105; total time=  15.5s\n",
      "[CV] END ..max_depth=5, min_samples_leaf=2, n_estimators=105; total time=  15.7s\n",
      "[CV] END ...max_depth=5, min_samples_leaf=5, n_estimators=60; total time=   9.0s\n",
      "[CV] END ...max_depth=5, min_samples_leaf=5, n_estimators=60; total time=   9.2s\n",
      "[CV] END ...max_depth=5, min_samples_leaf=5, n_estimators=60; total time=   9.3s\n",
      "[CV] END ...max_depth=5, min_samples_leaf=5, n_estimators=60; total time=   9.0s\n",
      "[CV] END ...max_depth=5, min_samples_leaf=5, n_estimators=60; total time=   9.1s\n",
      "[CV] END ...max_depth=5, min_samples_leaf=5, n_estimators=60; total time=   9.3s\n",
      "[CV] END ...max_depth=5, min_samples_leaf=5, n_estimators=60; total time=   9.0s\n",
      "[CV] END ...max_depth=5, min_samples_leaf=5, n_estimators=60; total time=   9.3s\n",
      "[CV] END ...max_depth=5, min_samples_leaf=5, n_estimators=60; total time=   9.0s\n",
      "[CV] END ...max_depth=5, min_samples_leaf=5, n_estimators=60; total time=   9.0s\n",
      "[CV] END ...max_depth=5, min_samples_leaf=5, n_estimators=75; total time=  11.0s\n",
      "[CV] END ...max_depth=5, min_samples_leaf=5, n_estimators=75; total time=  10.6s\n",
      "[CV] END ...max_depth=5, min_samples_leaf=5, n_estimators=75; total time=  10.6s\n",
      "[CV] END ...max_depth=5, min_samples_leaf=5, n_estimators=75; total time=  10.6s\n",
      "[CV] END ...max_depth=5, min_samples_leaf=5, n_estimators=75; total time=  10.7s\n",
      "[CV] END ...max_depth=5, min_samples_leaf=5, n_estimators=75; total time=  10.5s\n",
      "[CV] END ...max_depth=5, min_samples_leaf=5, n_estimators=75; total time=  10.6s\n",
      "[CV] END ...max_depth=5, min_samples_leaf=5, n_estimators=75; total time=  10.6s\n",
      "[CV] END ...max_depth=5, min_samples_leaf=5, n_estimators=75; total time=  10.6s\n",
      "[CV] END ...max_depth=5, min_samples_leaf=5, n_estimators=75; total time=  10.8s\n",
      "[CV] END ...max_depth=5, min_samples_leaf=5, n_estimators=90; total time=  12.8s\n",
      "[CV] END ...max_depth=5, min_samples_leaf=5, n_estimators=90; total time=  13.0s\n",
      "[CV] END ...max_depth=5, min_samples_leaf=5, n_estimators=90; total time=  12.7s\n",
      "[CV] END ...max_depth=5, min_samples_leaf=5, n_estimators=90; total time=  12.7s\n",
      "[CV] END ...max_depth=5, min_samples_leaf=5, n_estimators=90; total time=  13.1s\n",
      "[CV] END ...max_depth=5, min_samples_leaf=5, n_estimators=90; total time=  12.7s\n",
      "[CV] END ...max_depth=5, min_samples_leaf=5, n_estimators=90; total time=  12.8s\n",
      "[CV] END ...max_depth=5, min_samples_leaf=5, n_estimators=90; total time=  12.6s\n",
      "[CV] END ...max_depth=5, min_samples_leaf=5, n_estimators=90; total time=  12.8s\n",
      "[CV] END ...max_depth=5, min_samples_leaf=5, n_estimators=90; total time=  12.9s\n",
      "[CV] END ..max_depth=5, min_samples_leaf=5, n_estimators=105; total time=  15.1s\n",
      "[CV] END ..max_depth=5, min_samples_leaf=5, n_estimators=105; total time=  15.1s\n",
      "[CV] END ..max_depth=5, min_samples_leaf=5, n_estimators=105; total time=  15.2s\n",
      "[CV] END ..max_depth=5, min_samples_leaf=5, n_estimators=105; total time=  15.0s\n",
      "[CV] END ..max_depth=5, min_samples_leaf=5, n_estimators=105; total time=  14.7s\n",
      "[CV] END ..max_depth=5, min_samples_leaf=5, n_estimators=105; total time=  14.5s\n",
      "[CV] END ..max_depth=5, min_samples_leaf=5, n_estimators=105; total time=  14.9s\n",
      "[CV] END ..max_depth=5, min_samples_leaf=5, n_estimators=105; total time=  14.8s\n",
      "[CV] END ..max_depth=5, min_samples_leaf=5, n_estimators=105; total time=  14.8s\n",
      "[CV] END ..max_depth=5, min_samples_leaf=5, n_estimators=105; total time=  14.8s\n"
     ]
    },
    {
     "data": {
      "text/plain": [
       "GridSearchCV(cv=RepeatedStratifiedKFold(n_repeats=2, n_splits=5, random_state=None),\n",
       "             estimator=RandomForestClassifier(n_jobs=10),\n",
       "             param_grid={'max_depth': [1, 2, 3, 4, 5],\n",
       "                         'min_samples_leaf': [1, 2, 5],\n",
       "                         'n_estimators': array([ 60,  75,  90, 105])},\n",
       "             scoring='roc_auc', verbose=2)"
      ]
     },
     "execution_count": 12,
     "metadata": {},
     "output_type": "execute_result"
    }
   ],
   "source": [
    "rf_grid.fit(X_train,y_train)"
   ]
  },
  {
   "cell_type": "code",
   "execution_count": 14,
   "id": "6dce206c-b76a-4729-8eee-7b6f6d0a875a",
   "metadata": {},
   "outputs": [],
   "source": [
    "optimal_rf = rf_grid.best_estimator_"
   ]
  },
  {
   "cell_type": "code",
   "execution_count": 16,
   "id": "0db8841a-2e4b-445b-80bd-0bf52d52458e",
   "metadata": {},
   "outputs": [],
   "source": [
    "pred_train_opt = optimal_rf.predict(X_train)\n",
    "pred_test_opt = optimal_rf.predict(X_test)"
   ]
  },
  {
   "cell_type": "code",
   "execution_count": 17,
   "id": "340af704-809f-48c5-9aa8-89b2b683d5d5",
   "metadata": {},
   "outputs": [
    {
     "data": {
      "text/plain": [
       "0.8801878960056145"
      ]
     },
     "execution_count": 17,
     "metadata": {},
     "output_type": "execute_result"
    }
   ],
   "source": [
    "roc_auc_score(y_train,pred_train_opt)"
   ]
  },
  {
   "cell_type": "code",
   "execution_count": 18,
   "id": "f581fb60-6e41-417d-ba32-cba04125a72c",
   "metadata": {},
   "outputs": [
    {
     "data": {
      "text/plain": [
       "0.7675840058353078"
      ]
     },
     "execution_count": 18,
     "metadata": {},
     "output_type": "execute_result"
    }
   ],
   "source": [
    "roc_auc_score(y_test,pred_test_opt)"
   ]
  },
  {
   "cell_type": "code",
   "execution_count": 4,
   "id": "38c9850d-a550-45ae-82ae-cfbe106a5b67",
   "metadata": {},
   "outputs": [],
   "source": [
    "def get_metric(model):\n",
    "    training_pred = model.predict(X_train)\n",
    "    testing_pred = model.predict(X_test)\n",
    "    \n",
    "    print(\"The classification report for training is \\n\")\n",
    "    print(classification_report(y_train,training_pred),\"\\n\")\n",
    "    \n",
    "    print(\"The classification report for testing is \\n\")\n",
    "    print(classification_report(y_test,testing_pred),\"\\n\")\n",
    "    \n",
    "    print(\"The scores are summed up in the dataframe below\")\n",
    "    \n",
    "    metrics = [roc_auc_score,accuracy_score,recall_score,precision_score,log_loss,f1_score]\n",
    "    metric_name = ['Roc Auc','Accuracy','Recall','Precision','Log loss','F1 score']\n",
    "    \n",
    "    zipped_list = []\n",
    "    for i in metrics:\n",
    "        tr = round(i(y_train,training_pred),2)\n",
    "        ts = round(i(y_test,testing_pred),2)\n",
    "        zipped_list.append((tr,ts))\n",
    "    metric_df = pd.DataFrame(zipped_list,index=metric_name,columns=['Train','Test'])    \n",
    "    true_dict = pd.Series(y_test.flatten()).value_counts().to_dict()\n",
    "    pred_dict = pd.Series(testing_pred).value_counts().to_dict()\n",
    "\n",
    "    tmp_df = pd.DataFrame(zip(true_dict.values(),pred_dict.values()),columns = ['Actual','Predicted'],index=pred_dict.keys())\n",
    "    tmp_df = tmp_df.div(tmp_df.sum(axis=0), axis=1)\n",
    "    tmp_df.plot(kind='bar', rot=0, xlabel='Response',ylabel='Percentages', figsize=(14, 6))\n",
    "#    plt.ylim((0, 100))\n",
    "    \n",
    "    return metric_df   "
   ]
  },
  {
   "cell_type": "code",
   "execution_count": 83,
   "id": "0d8c1853-a73c-427d-836c-371047104814",
   "metadata": {},
   "outputs": [
    {
     "name": "stdout",
     "output_type": "stream",
     "text": [
      "The classification report for training is \n",
      "\n",
      "              precision    recall  f1-score   support\n",
      "\n",
      "           0       0.88      0.88      0.88    183758\n",
      "           1       0.88      0.88      0.88    189957\n",
      "\n",
      "    accuracy                           0.88    373715\n",
      "   macro avg       0.88      0.88      0.88    373715\n",
      "weighted avg       0.88      0.88      0.88    373715\n",
      " \n",
      "\n",
      "The classification report for testing is \n",
      "\n",
      "              precision    recall  f1-score   support\n",
      "\n",
      "           0       0.97      0.69      0.80     65137\n",
      "           1       0.27      0.85      0.41      9021\n",
      "\n",
      "    accuracy                           0.71     74158\n",
      "   macro avg       0.62      0.77      0.61     74158\n",
      "weighted avg       0.89      0.71      0.76     74158\n",
      " \n",
      "\n",
      "The scores are summed up in the dataframe below\n"
     ]
    },
    {
     "data": {
      "text/html": [
       "<div>\n",
       "<style scoped>\n",
       "    .dataframe tbody tr th:only-of-type {\n",
       "        vertical-align: middle;\n",
       "    }\n",
       "\n",
       "    .dataframe tbody tr th {\n",
       "        vertical-align: top;\n",
       "    }\n",
       "\n",
       "    .dataframe thead th {\n",
       "        text-align: right;\n",
       "    }\n",
       "</style>\n",
       "<table border=\"1\" class=\"dataframe\">\n",
       "  <thead>\n",
       "    <tr style=\"text-align: right;\">\n",
       "      <th></th>\n",
       "      <th>Train</th>\n",
       "      <th>Test</th>\n",
       "    </tr>\n",
       "  </thead>\n",
       "  <tbody>\n",
       "    <tr>\n",
       "      <th>Roc Auc</th>\n",
       "      <td>0.88</td>\n",
       "      <td>0.77</td>\n",
       "    </tr>\n",
       "    <tr>\n",
       "      <th>Accuracy</th>\n",
       "      <td>0.88</td>\n",
       "      <td>0.71</td>\n",
       "    </tr>\n",
       "    <tr>\n",
       "      <th>Recall</th>\n",
       "      <td>0.88</td>\n",
       "      <td>0.85</td>\n",
       "    </tr>\n",
       "    <tr>\n",
       "      <th>Precision</th>\n",
       "      <td>0.88</td>\n",
       "      <td>0.27</td>\n",
       "    </tr>\n",
       "    <tr>\n",
       "      <th>Log loss</th>\n",
       "      <td>4.14</td>\n",
       "      <td>10.11</td>\n",
       "    </tr>\n",
       "    <tr>\n",
       "      <th>F1 score</th>\n",
       "      <td>0.88</td>\n",
       "      <td>0.41</td>\n",
       "    </tr>\n",
       "  </tbody>\n",
       "</table>\n",
       "</div>"
      ],
      "text/plain": [
       "           Train   Test\n",
       "Roc Auc     0.88   0.77\n",
       "Accuracy    0.88   0.71\n",
       "Recall      0.88   0.85\n",
       "Precision   0.88   0.27\n",
       "Log loss    4.14  10.11\n",
       "F1 score    0.88   0.41"
      ]
     },
     "execution_count": 83,
     "metadata": {},
     "output_type": "execute_result"
    },
    {
     "data": {
      "image/png": "[encoded data removed]",
      "text/plain": [
       "<Figure size 1008x432 with 1 Axes>"
      ]
     },
     "metadata": {},
     "output_type": "display_data"
    }
   ],
   "source": [
    "get_metric(optimal_rf)"
   ]
  },
  {
   "cell_type": "code",
   "execution_count": 6,
   "id": "4ffb1b5f-107f-4b77-8600-c1cfaf3f2b5f",
   "metadata": {},
   "outputs": [],
   "source": [
    "svc_clf = SVC()"
   ]
  },
  {
   "cell_type": "code",
   "execution_count": 7,
   "id": "4274b7cb-845a-4e61-8e76-06d2a0dad2e5",
   "metadata": {
    "tags": []
   },
   "outputs": [],
   "source": [
    "svc_param =   {'C': [0.1,1, 10, 100],\n",
    "              'gamma': [1,0.1,0.01,0.001],\n",
    "               }"
   ]
  },
  {
   "cell_type": "code",
   "execution_count": 9,
   "id": "19f8a718-64fe-4b56-aac1-d79d98e55e2d",
   "metadata": {},
   "outputs": [],
   "source": [
    "svc_grid = RandomizedSearchCV(estimator=svc_clf,\n",
    "                       param_distributions = svc_param,refit=True,n_jobs=-2,\n",
    "                       cv = cv, verbose=2, scoring='roc_auc')"
   ]
  },
  {
   "cell_type": "code",
   "execution_count": null,
   "id": "449f7138-9b84-4974-8f71-5795bd848fdc",
   "metadata": {},
   "outputs": [
    {
     "name": "stdout",
     "output_type": "stream",
     "text": [
      "Fitting 10 folds for each of 10 candidates, totalling 100 fits\n"
     ]
    }
   ],
   "source": [
    "svc_grid.fit(X_train,y_train)"
   ]
  },
  {
   "cell_type": "code",
   "execution_count": null,
   "id": "831a7341-9257-42cb-9f9d-3263767754df",
   "metadata": {},
   "outputs": [],
   "source": []
  },
  {
   "cell_type": "code",
   "execution_count": 10,
   "id": "8dd2cb71-1e50-4cf8-b691-05cf7fd4195c",
   "metadata": {},
   "outputs": [],
   "source": [
    "lgbm_clf = lgb.LGBMClassifier()"
   ]
  },
  {
   "cell_type": "code",
   "execution_count": 11,
   "id": "fa4228e0-a914-4fb0-aaa9-b48fe7a681fc",
   "metadata": {},
   "outputs": [
    {
     "data": {
      "text/plain": [
       "LGBMClassifier()"
      ]
     },
     "execution_count": 11,
     "metadata": {},
     "output_type": "execute_result"
    }
   ],
   "source": [
    "lgbm_clf.fit(X_train,y_train)"
   ]
  },
  {
   "cell_type": "code",
   "execution_count": 12,
   "id": "a2b80f7a-c620-41a6-b2ba-b453f7979666",
   "metadata": {},
   "outputs": [
    {
     "name": "stdout",
     "output_type": "stream",
     "text": [
      "The classification report for training is \n",
      "\n",
      "              precision    recall  f1-score   support\n",
      "\n",
      "           0       0.96      0.86      0.91    183758\n",
      "           1       0.88      0.96      0.92    189957\n",
      "\n",
      "    accuracy                           0.91    373715\n",
      "   macro avg       0.92      0.91      0.91    373715\n",
      "weighted avg       0.92      0.91      0.91    373715\n",
      " \n",
      "\n",
      "The classification report for testing is \n",
      "\n",
      "              precision    recall  f1-score   support\n",
      "\n",
      "           0       0.98      0.65      0.78     65137\n",
      "           1       0.27      0.93      0.42      9021\n",
      "\n",
      "    accuracy                           0.68     74158\n",
      "   macro avg       0.63      0.79      0.60     74158\n",
      "weighted avg       0.90      0.68      0.74     74158\n",
      " \n",
      "\n",
      "The scores are summed up in the dataframe below\n"
     ]
    },
    {
     "data": {
      "text/html": [
       "<div>\n",
       "<style scoped>\n",
       "    .dataframe tbody tr th:only-of-type {\n",
       "        vertical-align: middle;\n",
       "    }\n",
       "\n",
       "    .dataframe tbody tr th {\n",
       "        vertical-align: top;\n",
       "    }\n",
       "\n",
       "    .dataframe thead th {\n",
       "        text-align: right;\n",
       "    }\n",
       "</style>\n",
       "<table border=\"1\" class=\"dataframe\">\n",
       "  <thead>\n",
       "    <tr style=\"text-align: right;\">\n",
       "      <th></th>\n",
       "      <th>Train</th>\n",
       "      <th>Test</th>\n",
       "    </tr>\n",
       "  </thead>\n",
       "  <tbody>\n",
       "    <tr>\n",
       "      <th>Roc Auc</th>\n",
       "      <td>0.91</td>\n",
       "      <td>0.79</td>\n",
       "    </tr>\n",
       "    <tr>\n",
       "      <th>Accuracy</th>\n",
       "      <td>0.91</td>\n",
       "      <td>0.68</td>\n",
       "    </tr>\n",
       "    <tr>\n",
       "      <th>Recall</th>\n",
       "      <td>0.96</td>\n",
       "      <td>0.93</td>\n",
       "    </tr>\n",
       "    <tr>\n",
       "      <th>Precision</th>\n",
       "      <td>0.88</td>\n",
       "      <td>0.27</td>\n",
       "    </tr>\n",
       "    <tr>\n",
       "      <th>Log loss</th>\n",
       "      <td>2.94</td>\n",
       "      <td>10.94</td>\n",
       "    </tr>\n",
       "    <tr>\n",
       "      <th>F1 score</th>\n",
       "      <td>0.92</td>\n",
       "      <td>0.42</td>\n",
       "    </tr>\n",
       "  </tbody>\n",
       "</table>\n",
       "</div>"
      ],
      "text/plain": [
       "           Train   Test\n",
       "Roc Auc     0.91   0.79\n",
       "Accuracy    0.91   0.68\n",
       "Recall      0.96   0.93\n",
       "Precision   0.88   0.27\n",
       "Log loss    2.94  10.94\n",
       "F1 score    0.92   0.42"
      ]
     },
     "execution_count": 12,
     "metadata": {},
     "output_type": "execute_result"
    },
    {
     "data": {
      "image/png": "[encoded data removed]",
      "text/plain": [
       "<Figure size 1008x432 with 1 Axes>"
      ]
     },
     "metadata": {},
     "output_type": "display_data"
    }
   ],
   "source": [
    "get_metric(lgbm_clf)"
   ]
  },
  {
   "cell_type": "code",
   "execution_count": 9,
   "id": "11537640-cad9-4124-92a8-7e8957ffcee5",
   "metadata": {},
   "outputs": [],
   "source": [
    "lgbm_param =   {'num_leaves': [6, 8, 12, 16],\n",
    "                'n_estimators': [8, 16, 24],\n",
    "                'learning_rate': [0.01,0.05],\n",
    "                }"
   ]
  },
  {
   "cell_type": "code",
   "execution_count": 14,
   "id": "67e901f7-0aba-4b7b-80b3-a45fd88e75bc",
   "metadata": {},
   "outputs": [],
   "source": [
    "lgbm_grid = RandomizedSearchCV(estimator=lgbm_clf,\n",
    "                       param_distributions = lgbm_param,refit=True,n_jobs=8,\n",
    "                       cv = cv, verbose=2, scoring='roc_auc')"
   ]
  },
  {
   "cell_type": "code",
   "execution_count": 15,
   "id": "bfe95715-4292-409e-98ce-f230396df656",
   "metadata": {},
   "outputs": [
    {
     "name": "stdout",
     "output_type": "stream",
     "text": [
      "Fitting 10 folds for each of 10 candidates, totalling 100 fits\n"
     ]
    },
    {
     "data": {
      "text/plain": [
       "RandomizedSearchCV(cv=RepeatedStratifiedKFold(n_repeats=2, n_splits=5, random_state=None),\n",
       "                   estimator=LGBMClassifier(), n_jobs=8,\n",
       "                   param_distributions={'learning_rate': [0.01, 0.05],\n",
       "                                        'n_estimators': [8, 16, 24],\n",
       "                                        'num_leaves': [6, 8, 12, 16]},\n",
       "                   scoring='roc_auc', verbose=2)"
      ]
     },
     "execution_count": 15,
     "metadata": {},
     "output_type": "execute_result"
    }
   ],
   "source": [
    "lgbm_grid.fit(X_train,y_train)"
   ]
  },
  {
   "cell_type": "code",
   "execution_count": 17,
   "id": "bdff0e61-8f80-49e0-bf2f-f1a591e20c15",
   "metadata": {},
   "outputs": [],
   "source": [
    "optimum_lgbm = lgbm_grid.best_estimator_"
   ]
  },
  {
   "cell_type": "code",
   "execution_count": 18,
   "id": "cded491b-18e2-4b7c-83ce-25a815576a13",
   "metadata": {},
   "outputs": [
    {
     "name": "stdout",
     "output_type": "stream",
     "text": [
      "The classification report for training is \n",
      "\n",
      "              precision    recall  f1-score   support\n",
      "\n",
      "           0       0.88      0.88      0.88    183758\n",
      "           1       0.88      0.89      0.88    189957\n",
      "\n",
      "    accuracy                           0.88    373715\n",
      "   macro avg       0.88      0.88      0.88    373715\n",
      "weighted avg       0.88      0.88      0.88    373715\n",
      " \n",
      "\n",
      "The classification report for testing is \n",
      "\n",
      "              precision    recall  f1-score   support\n",
      "\n",
      "           0       0.97      0.69      0.81     65137\n",
      "           1       0.28      0.86      0.42      9021\n",
      "\n",
      "    accuracy                           0.71     74158\n",
      "   macro avg       0.62      0.77      0.61     74158\n",
      "weighted avg       0.89      0.71      0.76     74158\n",
      " \n",
      "\n",
      "The scores are summed up in the dataframe below\n"
     ]
    },
    {
     "data": {
      "text/html": [
       "<div>\n",
       "<style scoped>\n",
       "    .dataframe tbody tr th:only-of-type {\n",
       "        vertical-align: middle;\n",
       "    }\n",
       "\n",
       "    .dataframe tbody tr th {\n",
       "        vertical-align: top;\n",
       "    }\n",
       "\n",
       "    .dataframe thead th {\n",
       "        text-align: right;\n",
       "    }\n",
       "</style>\n",
       "<table border=\"1\" class=\"dataframe\">\n",
       "  <thead>\n",
       "    <tr style=\"text-align: right;\">\n",
       "      <th></th>\n",
       "      <th>Train</th>\n",
       "      <th>Test</th>\n",
       "    </tr>\n",
       "  </thead>\n",
       "  <tbody>\n",
       "    <tr>\n",
       "      <th>Roc Auc</th>\n",
       "      <td>0.88</td>\n",
       "      <td>0.77</td>\n",
       "    </tr>\n",
       "    <tr>\n",
       "      <th>Accuracy</th>\n",
       "      <td>0.88</td>\n",
       "      <td>0.71</td>\n",
       "    </tr>\n",
       "    <tr>\n",
       "      <th>Recall</th>\n",
       "      <td>0.89</td>\n",
       "      <td>0.86</td>\n",
       "    </tr>\n",
       "    <tr>\n",
       "      <th>Precision</th>\n",
       "      <td>0.88</td>\n",
       "      <td>0.28</td>\n",
       "    </tr>\n",
       "    <tr>\n",
       "      <th>Log loss</th>\n",
       "      <td>4.09</td>\n",
       "      <td>10.04</td>\n",
       "    </tr>\n",
       "    <tr>\n",
       "      <th>F1 score</th>\n",
       "      <td>0.88</td>\n",
       "      <td>0.42</td>\n",
       "    </tr>\n",
       "  </tbody>\n",
       "</table>\n",
       "</div>"
      ],
      "text/plain": [
       "           Train   Test\n",
       "Roc Auc     0.88   0.77\n",
       "Accuracy    0.88   0.71\n",
       "Recall      0.89   0.86\n",
       "Precision   0.88   0.28\n",
       "Log loss    4.09  10.04\n",
       "F1 score    0.88   0.42"
      ]
     },
     "execution_count": 18,
     "metadata": {},
     "output_type": "execute_result"
    },
    {
     "data": {
      "image/png": "[encoded data removed]",
      "text/plain": [
       "<Figure size 1008x432 with 1 Axes>"
      ]
     },
     "metadata": {},
     "output_type": "display_data"
    }
   ],
   "source": [
    "get_metric(optimum_lgbm)"
   ]
  },
  {
   "cell_type": "code",
   "execution_count": 5,
   "id": "b5a85f26-aafa-4637-b3e0-30c59486fa28",
   "metadata": {},
   "outputs": [],
   "source": [
    "X_train_nn, X_val, y_train_nn, y_val = train_test_split(X_train,y_train,test_size=0.2,random_state=0)"
   ]
  },
  {
   "cell_type": "code",
   "execution_count": 6,
   "id": "fe5239ac-27f5-4ca3-928c-405395ed3134",
   "metadata": {},
   "outputs": [],
   "source": [
    "Y_train = to_categorical(y_train_nn, num_classes=None)\n",
    "Y_val = to_categorical(y_val, num_classes=None)\n",
    "Y_test = to_categorical(y_test, num_classes=None)"
   ]
  },
  {
   "cell_type": "code",
   "execution_count": 7,
   "id": "7e0e7ad3-27f5-46d8-9226-d8f80b0ae2ff",
   "metadata": {},
   "outputs": [],
   "source": [
    "input_size = 5\n",
    "output_size = 2\n",
    "hidden_size = 10\n",
    "model = tf.keras.Sequential([\n",
    "                             tf.keras.layers.Dense(hidden_size,'relu'),\n",
    "                             tf.keras.layers.Dropout(0.25),\n",
    "                             tf.keras.layers.Dense(hidden_size,'relu'),\n",
    "                             tf.keras.layers.Dropout(0.25),\n",
    "                             tf.keras.layers.Dense(output_size,'sigmoid')\n",
    "                            ])\n",
    "auc_met = tf.keras.metrics.AUC()\n",
    "model.compile(optimizer='adam',loss='binary_crossentropy',metrics=[auc_met])\n",
    "\n",
    "early_stopping = tf.keras.callbacks.EarlyStopping(patience = 2)"
   ]
  },
  {
   "cell_type": "code",
   "execution_count": 8,
   "id": "55c2bb23-8904-4bba-9089-e1658c0dc19f",
   "metadata": {},
   "outputs": [
    {
     "name": "stdout",
     "output_type": "stream",
     "text": [
      "Epoch 1/50\n",
      "29898/29898 - 32s - loss: 0.5048 - auc: 0.8359 - val_loss: 0.3702 - val_auc: 0.9156\n",
      "Epoch 2/50\n",
      "29898/29898 - 31s - loss: 0.3846 - auc: 0.9055 - val_loss: 0.3106 - val_auc: 0.9390\n",
      "Epoch 3/50\n",
      "29898/29898 - 31s - loss: 0.3549 - auc: 0.9189 - val_loss: 0.3001 - val_auc: 0.9386\n",
      "Epoch 4/50\n",
      "29898/29898 - 34s - loss: 0.3451 - auc: 0.9239 - val_loss: 0.2993 - val_auc: 0.9381\n",
      "Epoch 5/50\n",
      "29898/29898 - 34s - loss: 0.3436 - auc: 0.9243 - val_loss: 0.3093 - val_auc: 0.9378\n",
      "Epoch 6/50\n",
      "29898/29898 - 33s - loss: 0.3459 - auc: 0.9233 - val_loss: 0.2994 - val_auc: 0.9400\n"
     ]
    }
   ],
   "source": [
    "network = model.fit(X_train_nn, Y_train, validation_data=(X_val,Y_val),epochs=50, batch_size=10,verbose = 2,callbacks = [early_stopping])"
   ]
  },
  {
   "cell_type": "code",
   "execution_count": 9,
   "id": "b7144841-e5fc-45a1-a929-e1e8cf6f55e2",
   "metadata": {},
   "outputs": [],
   "source": [
    "pred_train_nn = np.argmax(model.predict(X_train_nn), axis=1) \n",
    "pred_test_nn = np.argmax(model.predict(X_test), axis=1)"
   ]
  },
  {
   "cell_type": "code",
   "execution_count": 13,
   "id": "661ee47d-6009-4f2c-b415-cb2f454effd5",
   "metadata": {},
   "outputs": [
    {
     "name": "stdout",
     "output_type": "stream",
     "text": [
      "              precision    recall  f1-score   support\n",
      "\n",
      "           0       0.88      0.79      0.83    146825\n",
      "           1       0.82      0.90      0.86    152147\n",
      "\n",
      "    accuracy                           0.85    298972\n",
      "   macro avg       0.85      0.85      0.85    298972\n",
      "weighted avg       0.85      0.85      0.85    298972\n",
      "\n"
     ]
    }
   ],
   "source": [
    "print(classification_report(y_train_nn,pred_train_nn))"
   ]
  },
  {
   "cell_type": "code",
   "execution_count": 18,
   "id": "324bfdeb-ea03-412d-8ebe-310494e79ee9",
   "metadata": {},
   "outputs": [
    {
     "data": {
      "text/plain": [
       "0.8453203808354612"
      ]
     },
     "execution_count": 18,
     "metadata": {},
     "output_type": "execute_result"
    }
   ],
   "source": [
    "roc_auc_score(y_train_nn,pred_train_nn)"
   ]
  },
  {
   "cell_type": "code",
   "execution_count": 14,
   "id": "1b717f53-eca9-4085-a739-23adc5ce4f69",
   "metadata": {},
   "outputs": [
    {
     "name": "stdout",
     "output_type": "stream",
     "text": [
      "              precision    recall  f1-score   support\n",
      "\n",
      "           0       0.98      0.60      0.75     65137\n",
      "           1       0.24      0.89      0.37      9021\n",
      "\n",
      "    accuracy                           0.64     74158\n",
      "   macro avg       0.61      0.75      0.56     74158\n",
      "weighted avg       0.89      0.64      0.70     74158\n",
      "\n"
     ]
    }
   ],
   "source": [
    "print(classification_report(y_test,pred_test_nn))"
   ]
  },
  {
   "cell_type": "code",
   "execution_count": 20,
   "id": "a8650d1a-c100-47fe-9447-ff5d6d7bb448",
   "metadata": {},
   "outputs": [
    {
     "data": {
      "text/plain": [
       "0.7456657463429892"
      ]
     },
     "execution_count": 20,
     "metadata": {},
     "output_type": "execute_result"
    }
   ],
   "source": [
    "roc_auc_score(y_test,pred_test_nn)"
   ]
  }
 ],
 "metadata": {
  "kernelspec": {
   "display_name": "Python 3 (ipykernel)",
   "language": "python",
   "name": "python3"
  },
  "language_info": {
   "codemirror_mode": {
    "name": "ipython",
    "version": 3
   },
   "file_extension": ".py",
   "mimetype": "text/x-python",
   "name": "python",
   "nbconvert_exporter": "python",
   "pygments_lexer": "ipython3",
   "version": "3.8.12"
  }
 },
 "nbformat": 4,
 "nbformat_minor": 5
}
